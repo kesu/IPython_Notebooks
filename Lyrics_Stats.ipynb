{
 "cells": [
  {
   "cell_type": "code",
   "execution_count": 135,
   "metadata": {
    "collapsed": true
   },
   "outputs": [],
   "source": [
    "import nltk\n",
    "import codecs\n",
    "import itertools\n",
    "import string\n",
    "import matplotlib.pyplot as plt\n",
    "import numpy as np\n"
   ]
  },
  {
   "cell_type": "code",
   "execution_count": 161,
   "metadata": {
    "collapsed": false
   },
   "outputs": [
    {
     "name": "stdout",
     "output_type": "stream",
     "text": [
      "24833\n",
      "23825\n",
      "[('shake', 74), ('love', 52), ('wish', 46), ('that', 36), ('back', 36), ('this', 35), ('know', 34), ('Cause', 31), ('gonna', 30), ('when', 30), ('like', 29), ('York', 29), ('Welcome', 29), ('your', 28), ('never', 28), ('just', 26), ('were', 25), ('what', 25), ('would', 24), ('down', 23)]\n"
     ]
    },
    {
     "data": {
      "image/png": "[encoded data removed]",
      "text/plain": [
       "<matplotlib.figure.Figure at 0x920fda0>"
      ]
     },
     "metadata": {},
     "output_type": "display_data"
    }
   ],
   "source": [
    "%matplotlib inline\n",
    "\n",
    "my_stop_words = ['to', 'it', 'the', 'and', 'a', 'in', 'of', 'was']\n",
    "puncs = set(string.punctuation)\n",
    "\n",
    "with open('C:/KJ/Projects/IPython_Notebooks/taylor.txt',\"r\") as f:\n",
    "    lyrics = f.read()\n",
    "\n",
    "print (len(lyrics))\n",
    "\n",
    "\n",
    "lyrics = ''.join(ch for ch in lyrics if ch not in puncs)\n",
    "print (len(lyrics))\n",
    "\n",
    "text = ' '.join([word for word in lyrics.split() if word.lower() not in my_stop_words and len(word)>3])\n",
    "#text = ' '.join([word for word in lyrics.split() if word.lower() not in my_stop_words])\n",
    "nl_text = nltk.Text(nltk.wordpunct_tokenize(text))\n",
    "fdist = nltk.FreqDist(nl_text)\n",
    "\n",
    "most_common = fdist.most_common(20)\n",
    "print (most_common)\n",
    "#fdist.plot(50, cumulative=False)\n",
    "#nl_text.collocations()\n",
    "\n",
    "relDict = {}\n",
    "for X,Y in most_common:\n",
    "    relDict[X] = Y\n",
    "\n",
    "X = np.arange(len(relDict))\n",
    "plt.bar(X, relDict.values(), align='center', width=0.05)\n",
    "plt.xticks(X, list(relDict.keys()), rotation='vertical')\n",
    "ymax = max(relDict.values()) + 1\n",
    "plt.ylim(0, ymax)\n",
    "plt.show()\n"
   ]
  },
  {
   "cell_type": "code",
   "execution_count": 115,
   "metadata": {
    "collapsed": false
   },
   "outputs": [
    {
     "name": "stdout",
     "output_type": "stream",
     "text": [
      "14173\n",
      "13710\n"
     ]
    },
    {
     "data": {
      "text/plain": [
       "[('I', 114),\n",
       " ('you', 85),\n",
       " ('me', 61),\n",
       " ('your', 51),\n",
       " ('my', 43),\n",
       " ('love', 32),\n",
       " ('not', 28),\n",
       " ('You', 25),\n",
       " ('all', 24),\n",
       " ('get', 24),\n",
       " ('never', 24),\n",
       " ('is', 24),\n",
       " ('away', 23),\n",
       " ('like', 23),\n",
       " ('always', 18),\n",
       " ('got', 17),\n",
       " ('will', 17),\n",
       " ('on', 16),\n",
       " ('with', 16),\n",
       " ('for', 16),\n",
       " ('joy', 16),\n",
       " ('Cherish', 16),\n",
       " ('be', 16),\n",
       " ('chorus', 14),\n",
       " ('Im', 14),\n",
       " ('what', 14),\n",
       " ('make', 13),\n",
       " ('that', 13),\n",
       " ('have', 13),\n",
       " ('baby', 13),\n",
       " ('just', 13),\n",
       " ('cant', 13),\n",
       " ('they', 13),\n",
       " ('dont', 13),\n",
       " ('this', 12),\n",
       " ('Youre', 12),\n",
       " ('are', 12),\n",
       " ('cherish', 11),\n",
       " ('him', 11),\n",
       " ('boy', 11),\n",
       " ('there', 11),\n",
       " ('but', 11),\n",
       " ('thought', 11),\n",
       " ('so', 10),\n",
       " ('givin', 10),\n",
       " ('can', 10),\n",
       " ('So', 10),\n",
       " ('Cant', 10),\n",
       " ('forget', 10),\n",
       " ('Keep', 10)]"
      ]
     },
     "execution_count": 115,
     "metadata": {},
     "output_type": "execute_result"
    }
   ],
   "source": [
    "my_stop_words = ['to', 'it', 'the', 'and', 'a', 'in', 'of', 'was']\n",
    "puncs = set(string.punctuation)\n",
    "\n",
    "with open('C:/KJ/Projects/IPython_Notebooks/madonna.txt',\"r\") as f:\n",
    "    lyrics = f.read()\n",
    "\n",
    "print (len(lyrics))\n",
    "\n",
    "\n",
    "lyrics = ''.join(ch for ch in lyrics if ch not in puncs)\n",
    "print (len(lyrics))\n",
    "\n",
    "#text = ' '.join([word for word in lyrics.split() if word.lower() not in my_stop_words and len(word)>3])\n",
    "text = ' '.join([word for word in lyrics.split() if word.lower() not in my_stop_words])\n",
    "nl_text = nltk.Text(nltk.wordpunct_tokenize(text))\n",
    "fdist = nltk.FreqDist(nl_text)\n",
    "\n",
    "fdist.most_common(50)"
   ]
  },
  {
   "cell_type": "code",
   "execution_count": null,
   "metadata": {
    "collapsed": true
   },
   "outputs": [],
   "source": []
  }
 ],
 "metadata": {
  "kernelspec": {
   "display_name": "Python 3",
   "language": "python",
   "name": "python3"
  },
  "language_info": {
   "codemirror_mode": {
    "name": "ipython",
    "version": 3
   },
   "file_extension": ".py",
   "mimetype": "text/x-python",
   "name": "python",
   "nbconvert_exporter": "python",
   "pygments_lexer": "ipython3",
   "version": "3.4.3"
  }
 },
 "nbformat": 4,
 "nbformat_minor": 0
}

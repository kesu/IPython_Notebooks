{
 "cells": [
  {
   "cell_type": "code",
   "execution_count": 2,
   "metadata": {
    "collapsed": true
   },
   "outputs": [],
   "source": [
    "import sqlite3\n",
    "import itertools"
   ]
  },
  {
   "cell_type": "code",
   "execution_count": 67,
   "metadata": {
    "collapsed": false
   },
   "outputs": [
    {
     "name": "stdout",
     "output_type": "stream",
     "text": [
      "1.9.2\n"
     ]
    }
   ],
   "source": [
    "import numpy\n",
    "print(numpy.__version__)"
   ]
  },
  {
   "cell_type": "code",
   "execution_count": 40,
   "metadata": {
    "collapsed": true
   },
   "outputs": [],
   "source": [
    "mood_tag_list = set(['MD', 'JJ', 'JJR', 'JJS', 'RB', 'RBR', 'RBS', 'VB', 'VBD', 'VBG', 'VBN', 'VBP', 'VBPZ'])"
   ]
  },
  {
   "cell_type": "code",
   "execution_count": 113,
   "metadata": {
    "collapsed": false
   },
   "outputs": [
    {
     "name": "stdout",
     "output_type": "stream",
     "text": [
      "1000\n",
      "1000\n"
     ]
    }
   ],
   "source": [
    "conn = sqlite3.connect('C:/KJ/Temp/reviews.db')\n",
    "c = conn.cursor()\n",
    "p_list = []\n",
    "n_list = []\n",
    "neutral_list = []\n",
    "for row in itertools.islice(c.execute('SELECT SNIPPET FROM REVIEWS WHERE RATING>4.2 AND SNIPPET IS NOT NULL'),1000):\n",
    "    p_list.append((row[0],'positive'))\n",
    "print (len(p_list))\n",
    "\n",
    "for row in itertools.islice(c.execute('SELECT SNIPPET FROM REVIEWS WHERE RATING<3.2 AND SNIPPET IS NOT NULL'),1000):\n",
    "    n_list.append((row[0],'negative')) \n",
    "print (len(n_list))\n",
    "\n",
    "#for row in itertools.islice(c.execute('SELECT SNIPPET FROM REVIEWS WHERE RATING>=3.2 and RATING<=4.2 AND SNIPPET IS NOT NULL'),1000):\n",
    "#    neutral_list.append((row[0],'neutral'))\n",
    "#print (len(neutral_list))\n"
   ]
  },
  {
   "cell_type": "code",
   "execution_count": 114,
   "metadata": {
    "collapsed": false
   },
   "outputs": [
    {
     "name": "stdout",
     "output_type": "stream",
     "text": [
      "2000\n"
     ]
    }
   ],
   "source": [
    "reviews = []\n",
    "for (words, sentiment) in p_list + n_list + neutral_list :\n",
    "    words_filtered = [e.lower() for e in get_mood_words(words) if len(e) > 1] \n",
    "    reviews.append((words_filtered, sentiment))    \n",
    "print (len(reviews))"
   ]
  },
  {
   "cell_type": "code",
   "execution_count": 104,
   "metadata": {
    "collapsed": false
   },
   "outputs": [],
   "source": [
    "def get_words_in_reviews(reviews):\n",
    "    all_words = []\n",
    "    for (words, sentiment) in reviews:\n",
    "        all_words.extend(words)\n",
    "    return all_words\n",
    "\n",
    "def get_word_features(wordlist):\n",
    "    wordlist = nltk.FreqDist(wordlist)\n",
    "    word_features = wordlist.keys()\n",
    "    return word_features\n",
    "\n",
    "def extract_features(document):\n",
    "    document_words = set(document)\n",
    "    features = {}\n",
    "    for word in word_features:\n",
    "        features['contains(%s)' % word] = (word in document_words)\n",
    "    return features"
   ]
  },
  {
   "cell_type": "code",
   "execution_count": 105,
   "metadata": {
    "collapsed": false
   },
   "outputs": [],
   "source": [
    "word_features = get_word_features(get_words_in_reviews(reviews))    \n",
    "training_set = nltk.classify.apply_features(extract_features, reviews)   \n",
    "classifier = nltk.NaiveBayesClassifier.train(training_set)"
   ]
  },
  {
   "cell_type": "code",
   "execution_count": 111,
   "metadata": {
    "collapsed": false
   },
   "outputs": [
    {
     "name": "stdout",
     "output_type": "stream",
     "text": [
      "0.7\n",
      "[('neutral', 'positive', 'Chill spot w good music, good vibes and good drink selection. \\n\\nLots of drafts, a few cocktails, cider. Snacks, trivia night, hot dog night, etc.. HH 1-7...'), ('negative', 'positive', 'I LOVE OLIVER! Our server/bartender was THE BEST! \\n\\nWe ordered the wings, bacon bowl, and bacon/cheese tator tots... and then we ordered the wings and tator...'), ('negative', 'positive', 'Nice local bar with a really good tap selection. Cool rare ciders for the girlfriend too. The bartenders here are friendly and really know their beer,...'), ('negative', 'positive', \"I went to watch Nutcracker Rouge with a friend recently.  Ugh, it's like the best thing ever.  Go watch it now!\\n\\nSo we get to this place, it's half hidden...\"), ('neutral', 'positive', 'This is a \"need to discover\" hidden little gem of a bar in Bushwick east of Williamsburg. Johnny is not only a super bar tender with cocktails that...'), ('negative', 'positive', 'Stopped in on a Friday about a month ago. The place was packed I took the last seat at the bar (everywhere else was full as well). This was the week after...'), ('neutral', 'positive', 'A unique and delicious dining experience. \\n\\nThere are no chairs so you stand at a lovely, reclaimed wooden bar. The menu is Spanish-style small plates, but...'), ('negative', 'positive', \"This is a bad ass little bar! You know why? Because after midnight on a Sunday or Monday or Tuesday it's packed! You know how I know? I went there...\"), ('neutral', 'positive', 'Current favorite cocktail on the menu:  Creole Moon - pretty sweet but a great concoction - give it a try\\n\\nI was extremely pleased with the service and the...'), ('negative', 'positive', 'The Heath is a very special place...and it should be experienced with very special people. \\n\\nI had an amazing time here on a weekday night, dining with...'), ('negative', 'positive', \"Great beer selection, no matter what type of brew or cider you're in the mood for. \\n\\nUsually I'm not a big fan of bars because my idea of good time isn't a...\"), ('negative', 'positive', \"The Moonlight Mile is my work bar of choice. I've frequented their establishment for many a happy hour, and they're always happy to greet us with awesome...\"), ('neutral', 'positive', \"I've always wanted to come to this bar but was never able to due to the capacity of the space and the amount of people I was with so I came here with a...\"), ('negative', 'positive', \"There's no separate Yelp listing for NY Distilling Co, so consider this a joint review for both. Came here for the free distillery tour (2 to 5 on...\"), ('negative', 'positive', 'Excellent cocktails!\\n\\nAvoid the absinthe - it was my undoing.'), ('neutral', 'positive', 'Another gem of LIC! This is actually a hostel, but it hosts a cute cafe and bar up front. After 5 pm officially (or really, whenever the bartender feels...'), ('negative', 'positive', \"I'm surprising myself by giving Dead Drop 5 stars, particularly because I don't normally appreciate a good, classy, drink (hit me up with Long Islands...\"), ('neutral', 'negative', 'Allow me to plan the perfect spring Sunday for you:\\n\\nTake the 35th street ferry to Bk Bridge park\\nStop by the Garden bar first\\norder their delicious bloody...'), ('positive', 'negative', 'I have yet to go to the rooftop, but I have been here for an impromptu brunch on a blustery fall morning. It is definitely a hike from the nearest subway,...'), ('positive', 'negative', \"Came in on Saturday. Beautfiul day, windows open, etc, etc. Family was in town. We've been here once before and recommended it!  Had a wonderful experience...\"), ('neutral', 'negative', 'I don\\'t \"Yelp\" much these days. I\\'ll only get on here & write a review when a place rules fucking hard. And Bizarre does. What\\'s with this three-star...'), ('neutral', 'negative', 'Stone Street Tavern serves consistently flavorful and well-prepared dishes. The atmosphere is casual yet nice with dim lighting and dark oak tables. \\n\\nThe...'), ('neutral', 'negative', 'Battery Park is not known to have lots of fun spots to hit up, if any at all. \\n\\nThough recently there has been a change in the neighborhood. From Loopy...'), ('neutral', 'negative', 'Stopped by 1739 Public House after work one day to grab a bite with a friend. I got the grilled chicken wrap, with lots of avocados and bell peppers in it....'), ('neutral', 'negative', 'Nice location, love the outdoor rooftop setting, solid music.\\n\\nFood - I had the spicy lamb sausage panini.  Super tasty, really enjoyed the side dish with...'), ('neutral', 'negative', 'I give this 5 stars specifically because of the \"We The West\" showcase\\n (every 2nd Friday of the month). \\n\\n GREAT artists and music (upstairs, downstairs...'), ('positive', 'negative', \"So I've been back here several times since my first review, and the place has definitely grown on me.  It's still really fricking loud in there, but the...\"), ('positive', 'negative', \"So my friends and I randomly went to Busby's after eating next door at Ariyoshi's. (love that place too but I digress).\\nWe had never been to Busby's but as...\"), ('positive', 'negative', 'I have heard that this place had good food... They were wrong... The food was great!!!!!\\n\\nThe best initial determination of a Mexican restaurant is salsa......'), ('positive', 'negative', 'This place is a chill spot for some drinks and casual eating with friends in Ktown. We tried their spicy seafood pasta... Omg never again. They asked us...')]\n"
     ]
    }
   ],
   "source": [
    "test_list = []\n",
    "for row in itertools.islice(c.execute('SELECT SNIPPET FROM POS_REVIEWS WHERE RATING >4.2 AND SNIPPET IS NOT NULL'),50):\n",
    "    test_list.append((row[0],'positive'))\n",
    "for row in itertools.islice(c.execute('SELECT SNIPPET FROM NEG_REVIEWS WHERE RATING <3.2 AND SNIPPET IS NOT NULL'),50):\n",
    "    test_list.append((row[0],'negative'))\n",
    "#for row in itertools.islice(c.execute('SELECT SNIPPET FROM NEG_REVIEWS WHERE RATING >=3.2 AND RATING<=4.2 AND SNIPPET IS NOT NULL'),50):\n",
    "#    test_list.append((row[0],'neutral'))\n",
    "#print (len(test_list))\n",
    "\n",
    "success = 0\n",
    "failed_list = []\n",
    "for (rev,tagged_mood) in test_list:\n",
    "    predicted_mood = classifier.classify(extract_features(rev.split()))\n",
    "    if predicted_mood==tagged_mood:\n",
    "        success+=1\n",
    "    else:\n",
    "        failed_list.append((predicted_mood, tagged_mood, rev))\n",
    "print (success/len(test_list))\n",
    "print (failed_list)"
   ]
  },
  {
   "cell_type": "code",
   "execution_count": 112,
   "metadata": {
    "collapsed": false
   },
   "outputs": [
    {
     "name": "stdout",
     "output_type": "stream",
     "text": [
      "Most Informative Features\n",
      "          contains(cute) = True           neutra : negati =      8.3 : 1.0\n",
      "        contains(unique) = True           positi : negati =      7.0 : 1.0\n",
      "          contains(knew) = True           positi : negati =      6.3 : 1.0\n",
      "       contains(totally) = True           positi : negati =      6.3 : 1.0\n",
      "    contains(pleasantly) = True           negati : positi =      6.3 : 1.0\n",
      "         contains(clean) = True           negati : neutra =      6.2 : 1.0\n",
      "       contains(exactly) = True           neutra : negati =      5.7 : 1.0\n",
      "         contains(drive) = True           positi : neutra =      5.7 : 1.0\n",
      "          contains(loud) = True           neutra : negati =      5.7 : 1.0\n",
      "            contains(as) = True           negati : neutra =      5.7 : 1.0\n",
      "          contains(dead) = True           negati : neutra =      5.7 : 1.0\n",
      "       contains(average) = True           negati : neutra =      5.7 : 1.0\n",
      "          contains(true) = True           positi : negati =      5.7 : 1.0\n",
      "     contains(expensive) = True           negati : positi =      5.0 : 1.0\n",
      "        contains(cheese) = True           neutra : negati =      5.0 : 1.0\n",
      "       contains(hanging) = True           neutra : positi =      5.0 : 1.0\n",
      " contains(knowledgeable) = True           positi : negati =      5.0 : 1.0\n",
      "       contains(overall) = True           neutra : positi =      5.0 : 1.0\n",
      "         contains(bring) = True           positi : negati =      5.0 : 1.0\n",
      "         contains(liked) = True           negati : positi =      5.0 : 1.0\n",
      "     contains(expecting) = True           negati : positi =      5.0 : 1.0\n",
      "          contains(spot) = True           positi : negati =      4.6 : 1.0\n",
      "      contains(pleasant) = True           negati : positi =      4.3 : 1.0\n",
      "        contains(fairly) = True           negati : neutra =      4.3 : 1.0\n",
      "          contains(kept) = True           neutra : positi =      4.3 : 1.0\n",
      "           contains(ate) = True           negati : positi =      4.3 : 1.0\n",
      "     contains(perfectly) = True           positi : negati =      4.3 : 1.0\n",
      "     contains(welcoming) = True           positi : neutra =      4.3 : 1.0\n",
      " contains(unpretentious) = True           positi : neutra =      4.3 : 1.0\n",
      "        contains(decent) = True           negati : neutra =      4.3 : 1.0\n",
      "    contains(completely) = True           positi : neutra =      4.3 : 1.0\n",
      "      contains(stumbled) = True           neutra : negati =      4.3 : 1.0\n",
      "None\n"
     ]
    }
   ],
   "source": [
    "print (classifier.show_most_informative_features(32))"
   ]
  },
  {
   "cell_type": "code",
   "execution_count": 30,
   "metadata": {
    "collapsed": false
   },
   "outputs": [
    {
     "data": {
      "text/plain": [
       "[('And', 'CC'),\n",
       " ('now', 'RB'),\n",
       " ('for', 'IN'),\n",
       " ('something', 'NN'),\n",
       " ('completely', 'RB'),\n",
       " ('different', 'JJ')]"
      ]
     },
     "execution_count": 30,
     "metadata": {},
     "output_type": "execute_result"
    }
   ],
   "source": [
    "from nltk.tokenize import word_tokenize\n",
    "text = word_tokenize(\"And now for something completely different\")\n",
    "nltk.pos_tag(text)"
   ]
  },
  {
   "cell_type": "code",
   "execution_count": 45,
   "metadata": {
    "collapsed": false
   },
   "outputs": [
    {
     "name": "stdout",
     "output_type": "stream",
     "text": [
      "['now', 'completely', 'different']\n"
     ]
    }
   ],
   "source": [
    "def get_mood_words(text):\n",
    "    mood_tag_list = set(['JJ', 'JJR', 'JJS', 'RB', 'RBR', 'RBS', 'VB', 'VBD', 'VBG', 'VBP', 'VBPZ'])\n",
    "    mood_words = []\n",
    "    tagged_words = nltk.pos_tag(word_tokenize(text))    \n",
    "    for word, pos in tagged_words:        \n",
    "        if pos in mood_tag_list:\n",
    "            mood_words.append(word) \n",
    "    return mood_words\n",
    "print (get_mood_words(\"And now for something completely different\"))"
   ]
  }
 ],
 "metadata": {
  "kernelspec": {
   "display_name": "Python 3",
   "language": "python",
   "name": "python3"
  },
  "language_info": {
   "codemirror_mode": {
    "name": "ipython",
    "version": 3
   },
   "file_extension": ".py",
   "mimetype": "text/x-python",
   "name": "python",
   "nbconvert_exporter": "python",
   "pygments_lexer": "ipython3",
   "version": "3.4.3"
  }
 },
 "nbformat": 4,
 "nbformat_minor": 0
}

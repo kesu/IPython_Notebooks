{
 "cells": [
  {
   "cell_type": "code",
   "execution_count": 44,
   "metadata": {
    "collapsed": true
   },
   "outputs": [],
   "source": [
    "from sklearn.feature_extraction.text import CountVectorizer\n",
    "from sklearn.feature_extraction.text import TfidfTransformer\n",
    "from sklearn.naive_bayes import BernoulliNB\n",
    "from sklearn.svm import LinearSVC\n",
    "from sklearn.linear_model import SGDClassifier\n",
    "from sklearn import cross_validation\n",
    "from sklearn.metrics import classification_report\n",
    "import numpy as np\n",
    "from sklearn.metrics import accuracy_score\n",
    "import sqlite3\n",
    "import itertools\n",
    "from nltk.tokenize import word_tokenize\n",
    "from nltk import pos_tag\n"
   ]
  },
  {
   "cell_type": "code",
   "execution_count": 74,
   "metadata": {
    "collapsed": false
   },
   "outputs": [],
   "source": [
    "AVG_RATING = 3.7\n",
    "\n",
    "def get_mood_words(text):\n",
    "    mood_tag_list = set(['JJ', 'JJR', 'JJS', 'RB', 'RBR', 'RBS', 'VB', 'VBD', 'VBG', 'VBP', 'VBPZ'])\n",
    "    mood_words = []\n",
    "    tagged_words = pos_tag(word_tokenize(text))    \n",
    "    for word, pos in tagged_words:        \n",
    "        if pos in mood_tag_list:\n",
    "            mood_words.append(word) \n",
    "    return mood_words\n",
    "\n",
    "def load_data():\n",
    "    data = []\n",
    "    target = []\n",
    "    conn = sqlite3.connect('C:/KJ/Temp/reviews.db')\n",
    "    c = conn.cursor()\n",
    "    for row in itertools.islice(c.execute('SELECT SNIPPET, RATING FROM REVIEWS WHERE SNIPPET IS NOT NULL AND RATING IS NOT NULL'),20000):\n",
    "        snippet = row[0]        \n",
    "        rating = row[1]\n",
    "        if rating >=AVG_RATING+0.5:\n",
    "            target.append('positive')\n",
    "            #data.append(\" \".join(get_mood_words(snippet)))\n",
    "            data.append(snippet)\n",
    "        elif rating<AVG_RATING-0.5:\n",
    "            target.append('negative')\n",
    "            #data.append(\" \".join(get_mood_words(snippet)))\n",
    "            data.append(snippet)\n",
    "    return data, target\n",
    "\n",
    "# preprocess creates the term frequency matrix for the review data set\n",
    "def preprocess():\n",
    "    data,target = load_data()\n",
    "    count_vectorizer = CountVectorizer(binary='true')\n",
    "    data = count_vectorizer.fit_transform(data)\n",
    "    tfidf_data = TfidfTransformer(use_idf=False).fit_transform(data)\n",
    "    return tfidf_data\n",
    "\n",
    "def learn_model(data,target):\n",
    "    # preparing data for split validation. 60% training, 40% test\n",
    "    data_train,data_test,target_train,target_test = cross_validation.train_test_split(data,target,test_size=0.4,random_state=43)\n",
    "    classifier = BernoulliNB().fit(data_train,target_train)\n",
    "    classifier2 = LinearSVC().fit(data_train,target_train)\n",
    "    classifier3 = SGDClassifier().fit(data_train,target_train)\n",
    "    predicted = classifier.predict(data_test)\n",
    "    predicted2 = classifier2.predict(data_test)\n",
    "    predicted3 = classifier3.predict(data_test)\n",
    "    evaluate_model(target_test,predicted)\n",
    "    evaluate_model(target_test,predicted2)\n",
    "    evaluate_model(target_test,predicted3)    \n",
    "\n",
    "# read more about model evaluation metrics here\n",
    "# http://scikit-learn.org/stable/modules/model_evaluation.html\n",
    "def evaluate_model(target_true,target_predicted):\n",
    "    print (classification_report(target_true,target_predicted))\n",
    "    print (\"The accuracy score is {:.2%}\".format(accuracy_score(target_true,target_predicted)))\n",
    "\n",
    "def main():\n",
    "    data,target = load_data()\n",
    "    print(len(data))\n",
    "    tf_idf = preprocess()\n",
    "    learn_model(tf_idf,target)\n"
   ]
  },
  {
   "cell_type": "code",
   "execution_count": 76,
   "metadata": {
    "collapsed": false
   },
   "outputs": [
    {
     "name": "stdout",
     "output_type": "stream",
     "text": [
      "6803\n",
      "             precision    recall  f1-score   support\n",
      "\n",
      "   negative       0.69      0.82      0.75      1539\n",
      "   positive       0.69      0.52      0.59      1183\n",
      "\n",
      "avg / total       0.69      0.69      0.68      2722\n",
      "\n",
      "The accuracy score is 68.92%\n",
      "             precision    recall  f1-score   support\n",
      "\n",
      "   negative       0.71      0.76      0.73      1539\n",
      "   positive       0.65      0.59      0.62      1183\n",
      "\n",
      "avg / total       0.68      0.68      0.68      2722\n",
      "\n",
      "The accuracy score is 68.44%\n",
      "             precision    recall  f1-score   support\n",
      "\n",
      "   negative       0.71      0.75      0.73      1539\n",
      "   positive       0.65      0.60      0.62      1183\n",
      "\n",
      "avg / total       0.68      0.68      0.68      2722\n",
      "\n",
      "The accuracy score is 68.30%\n"
     ]
    }
   ],
   "source": [
    "main()"
   ]
  },
  {
   "cell_type": "code",
   "execution_count": 137,
   "metadata": {
    "collapsed": false
   },
   "outputs": [
    {
     "name": "stdout",
     "output_type": "stream",
     "text": [
      "19488\n",
      "[159, 156, 156, 156, 153, 157, 153, 159, 153, 159, 158, 153, 158, 153, 158, 158, 158, 157, 153]\n"
     ]
    },
    {
     "data": {
      "image/png": "[encoded data removed]",
      "text/plain": [
       "<matplotlib.figure.Figure at 0xfa08198>"
      ]
     },
     "metadata": {},
     "output_type": "display_data"
    }
   ],
   "source": [
    "%matplotlib inline\n",
    "import matplotlib.pyplot as plt\n",
    "import matplotlib.mlab as mlab\n",
    "\n",
    "conn = sqlite3.connect('C:/KJ/Temp/reviews.db')\n",
    "c = conn.cursor()\n",
    "target = []\n",
    "data = []\n",
    "for row in itertools.islice(c.execute('SELECT SNIPPET, RATING FROM REVIEWS WHERE SNIPPET IS NOT NULL AND RATING IS NOT NULL'),20000):\n",
    "    snippet = row[0]        \n",
    "    rating = row[1]\n",
    "    target.append(rating)\n",
    "    data.append(len(snippet))\n",
    "\n",
    "print (len(target))\n",
    "print (data[1:20])\n",
    "\n",
    "n, bins, patches = plt.hist(target, bins=10,normed=1, facecolor='green', alpha=0.75)\n",
    "# add a 'best fit' line\n",
    "y = mlab.normpdf( bins, mu, sigma)\n",
    "l = plt.plot(bins, y, 'r--', linewidth=1)\n",
    "\n",
    "plt.xlabel('Rating')\n",
    "plt.ylabel('Probability')\n",
    "plt.title(r'$\\mathrm{Histogram\\ of\\ Yelp\\ ratings:}$')\n",
    "plt.axis([0, 5, 0, 100])\n",
    "plt.grid(True)\n",
    "\n",
    "n, bins, patches = plt.hist(target, bins=10,normed=1, facecolor='green', alpha=0.75)\n",
    "# add a 'best fit' line\n",
    "y = mlab.normpdf( bins, mu, sigma)\n",
    "l = plt.plot(bins, y, 'r--', linewidth=1)\n",
    "\n",
    "plt.xlabel('Length')\n",
    "plt.ylabel('Probability')\n",
    "plt.title(r'$\\mathrm{Histogram\\ of\\ Yelp\\ ratings:}$')\n",
    "plt.axis([0, 160, 0, 1])\n",
    "plt.grid(True)\n",
    "\n",
    "\n"
   ]
  },
  {
   "cell_type": "code",
   "execution_count": null,
   "metadata": {
    "collapsed": true
   },
   "outputs": [],
   "source": []
  }
 ],
 "metadata": {
  "kernelspec": {
   "display_name": "Python 3",
   "language": "python",
   "name": "python3"
  },
  "language_info": {
   "codemirror_mode": {
    "name": "ipython",
    "version": 3
   },
   "file_extension": ".py",
   "mimetype": "text/x-python",
   "name": "python",
   "nbconvert_exporter": "python",
   "pygments_lexer": "ipython3",
   "version": "3.4.3"
  }
 },
 "nbformat": 4,
 "nbformat_minor": 0
}

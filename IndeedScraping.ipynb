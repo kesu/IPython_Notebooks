{
 "cells": [
  {
   "cell_type": "code",
   "execution_count": 26,
   "metadata": {
    "collapsed": false
   },
   "outputs": [],
   "source": [
    "from bs4 import BeautifulSoup # For HTML parsing\n",
    "import re # Regular expressions\n",
    "from time import sleep # To prevent overwhelming the server between connections\n",
    "from collections import Counter # Keep track of our term counts\n",
    "from nltk.corpus import stopwords # Filter out stopwords, such as 'the', 'or', 'and'\n",
    "import pandas as pd # For converting results to a dataframe and bar chart plots\n",
    "import urllib\n",
    "%matplotlib inline"
   ]
  },
  {
   "cell_type": "code",
   "execution_count": 5,
   "metadata": {
    "collapsed": false
   },
   "outputs": [],
   "source": []
  },
  {
   "cell_type": "code",
   "execution_count": 60,
   "metadata": {
    "collapsed": true
   },
   "outputs": [],
   "source": [
    "def text_cleaner(website):\n",
    "    '''\n",
    "    This function just cleans up the raw html so that I can look at it.\n",
    "    Inputs: a URL to investigate\n",
    "    Outputs: Cleaned text only\n",
    "    '''\n",
    "    \n",
    "    \n",
    "    try:\n",
    "        site = urllib.request.urlopen(website).read() # Connect to the job posting\n",
    "    except: \n",
    "        print (\"FAIL\")\n",
    "        return  # Need this in case the website isn't there anymore or some other weird connection problem \n",
    "    \n",
    "    soup_obj = BeautifulSoup(site) # Get the html from the site\n",
    "        \n",
    "    if len(soup_obj) == 0: # In case the default parser lxml doesn't work, try another one\n",
    "        soup_obj = BeautifulSoup(site, 'html5lib')\n",
    "    \n",
    "    \n",
    "    for script in soup_obj([\"script\", \"style\"]):\n",
    "        script.extract() # Remove these two elements from the BS4 object\n",
    "    \n",
    "    \n",
    "    text = soup_obj.get_text() # Get the text from this\n",
    "\n",
    "    \n",
    "\n",
    "    lines = (line.strip() for line in text.splitlines()) # break into lines\n",
    "\n",
    "    \n",
    "    \n",
    "    chunks = (phrase.strip() for line in lines for phrase in line.split(\"  \")) # break multi-headlines into a line each\n",
    "    \n",
    "\n",
    "    text = ''.join(chunk for chunk in chunks if chunk).encode('utf-8') # Get rid of all blank lines and ends of line\n",
    "    \n",
    "    # Now clean out all of the unicode junk (this line works great!!!)\n",
    "    \n",
    "    try:\n",
    "        text = text.decode('unicode_escape').encode('ascii', 'ignore') # Need this as some websites aren't formatted\n",
    "    except:                                                            # in a way that this works, can occasionally throw\n",
    "        return                                                         # an exception\n",
    "   \n",
    "    \n",
    "    text = re.sub(\"[^a-zA-Z+3]\",\" \", text.decode('utf-8'))  # Now get rid of any terms that aren't words (include 3 for d3.js)\n",
    "                                             # Also include + for C++\n",
    "    text = re.sub(r\"([a-z])([A-Z])\", r\"\\1 \\2\", text) # Fix spacing issue from merged words\n",
    "    \n",
    "    text = text.lower().split()  # Go to lower case and split them apart\n",
    "    \n",
    "    \n",
    "    stop_words = set(stopwords.words(\"english\")) # Filter out any stop words\n",
    "    text = [w for w in text if not w in stop_words]\n",
    "    \n",
    "    \n",
    "    \n",
    "    text = list(set(text)) # Last, just get the set of these. Ignore counts (we are just looking at whether a term existed\n",
    "                           # or not on the website)\n",
    "    \n",
    "    return text"
   ]
  },
  {
   "cell_type": "code",
   "execution_count": null,
   "metadata": {
    "collapsed": true
   },
   "outputs": [],
   "source": []
  },
  {
   "cell_type": "code",
   "execution_count": 64,
   "metadata": {
    "collapsed": false
   },
   "outputs": [],
   "source": [
    "sample = text_cleaner('http://www.indeed.com/viewjob?jk=5505e59f8e5a32a4&q=%22data+scientist%22&tk=19ftfgsmj19ti0l3&from=web&advn=1855944161169178&sjdu=QwrRXKrqZ3CNX5W-O9jEvWC1RT2wMYkGnZrqGdrncbKqQ7uwTLXzT1_ME9WQ4M-7om7mrHAlvyJT8cA_14IV5w&pub=pub-indeed')"
   ]
  },
  {
   "cell_type": "code",
   "execution_count": 65,
   "metadata": {
    "collapsed": false
   },
   "outputs": [
    {
     "data": {
      "text/plain": [
       "['tools',\n",
       " 'value',\n",
       " 'role',\n",
       " 'great',\n",
       " 'p',\n",
       " 'cookies',\n",
       " 'terms',\n",
       " 'someone',\n",
       " 'mathematics',\n",
       " 'month',\n",
       " 'r',\n",
       " '+',\n",
       " 'ago',\n",
       " 'snacks',\n",
       " 'physics',\n",
       " 'related',\n",
       " 'mixture',\n",
       " 'visit',\n",
       " 'trends',\n",
       " 'benefits']"
      ]
     },
     "execution_count": 65,
     "metadata": {},
     "output_type": "execute_result"
    }
   ],
   "source": [
    "sample[:20]"
   ]
  },
  {
   "cell_type": "code",
   "execution_count": 32,
   "metadata": {
    "collapsed": false
   },
   "outputs": [],
   "source": [
    "website='http://www.indeed.com/viewjob?jk=5505e59f8e5a32a4&q=%22data+scientist%22&tk=19ftfgsmj19ti0l3&from=web&advn=1855944161169178&sjdu=QwrRXKrqZ3CNX5W-O9jEvWC1RT2wMYkGnZrqGdrncbKqQ7uwTLXzT1_ME9WQ4M-7om7mrHAlvyJT8cA_14IV5w&pub=pub-indeed'\n",
    "site = urllib.request.urlopen(website).read()"
   ]
  },
  {
   "cell_type": "code",
   "execution_count": 33,
   "metadata": {
    "collapsed": true
   },
   "outputs": [],
   "source": [
    "soup_obj = BeautifulSoup(site)"
   ]
  },
  {
   "cell_type": "code",
   "execution_count": 35,
   "metadata": {
    "collapsed": false
   },
   "outputs": [],
   "source": [
    "for script in soup_obj([\"script\", \"style\"]):\n",
    "    script.extract()\n"
   ]
  },
  {
   "cell_type": "code",
   "execution_count": 51,
   "metadata": {
    "collapsed": false
   },
   "outputs": [],
   "source": [
    "text = soup_obj.get_text() "
   ]
  },
  {
   "cell_type": "code",
   "execution_count": 52,
   "metadata": {
    "collapsed": false
   },
   "outputs": [],
   "source": [
    "lines = (line.strip() for line in text.splitlines())\n",
    "chunks = (phrase.strip() for line in lines for phrase in line.split(\"  \"))\n",
    "text = ''.join(chunk for chunk in chunks if chunk).encode('utf-8')"
   ]
  },
  {
   "cell_type": "code",
   "execution_count": 53,
   "metadata": {
    "collapsed": false,
    "scrolled": true
   },
   "outputs": [],
   "source": [
    "text = text.decode('unicode_escape').encode('ascii', 'ignore')"
   ]
  },
  {
   "cell_type": "code",
   "execution_count": 57,
   "metadata": {
    "collapsed": false
   },
   "outputs": [],
   "source": [
    "text = text.decode('utf-8')"
   ]
  },
  {
   "cell_type": "code",
   "execution_count": 58,
   "metadata": {
    "collapsed": true
   },
   "outputs": [],
   "source": [
    "text = re.sub(\"[^a-zA-Z+3]\",\" \", text)"
   ]
  },
  {
   "cell_type": "code",
   "execution_count": 63,
   "metadata": {
    "collapsed": false
   },
   "outputs": [
    {
     "name": "stdout",
     "output_type": "stream",
     "text": [
      "showing info http://www.nltk.org/nltk_data/\n"
     ]
    },
    {
     "data": {
      "text/plain": [
       "True"
      ]
     },
     "execution_count": 63,
     "metadata": {},
     "output_type": "execute_result"
    }
   ],
   "source": [
    "import nltk\n",
    "nltk.download()"
   ]
  },
  {
   "cell_type": "code",
   "execution_count": 96,
   "metadata": {
    "collapsed": false
   },
   "outputs": [],
   "source": [
    "def skills_info(city = None, state = None):\n",
    "    '''\n",
    "    This function will take a desired city/state and look for all new job postings\n",
    "    on Indeed.com. It will crawl all of the job postings and keep track of how many\n",
    "    use a preset list of typical data science skills. The final percentage for each skill\n",
    "    is then displayed at the end of the collation. \n",
    "    \n",
    "    Inputs: The location's city and state. These are optional. If no city/state is input, \n",
    "    the function will assume a national search (this can take a while!!!).\n",
    "    Input the city/state as strings, such as skills_info('Chicago', 'IL').\n",
    "    Use a two letter abbreviation for the state.\n",
    "    \n",
    "    Output: A bar chart showing the most commonly desired skills in the job market for \n",
    "    a data scientist. \n",
    "    '''\n",
    "    \n",
    "    final_job = 'data+scientist' # searching for data scientist exact fit(\"data scientist\" on Indeed search)\n",
    "    \n",
    "    # Make sure the city specified works properly if it has more than one word (such as San Francisco)\n",
    "    if city is not None:\n",
    "        final_city = city.split() \n",
    "        final_city = '+'.join(word for word in final_city)\n",
    "        final_site_list = ['http://www.indeed.com/jobs?q=%22', final_job, '%22&l=', final_city,\n",
    "                   '%2C+', state] # Join all of our strings together so that indeed will search correctly\n",
    "    else:\n",
    "        final_site_list = ['http://www.indeed.com/jobs?q=\"', final_job, '\"']\n",
    "\n",
    "    final_site = ''.join(final_site_list) # Merge the html address together into one string\n",
    "\n",
    "\n",
    "    base_url = 'http://www.indeed.com'\n",
    "\n",
    "\n",
    "    try:\n",
    "        html = urllib.request.urlopen(final_site).read() # Open up the front page of our search first\n",
    "    except:\n",
    "        'That city/state combination did not have any jobs. Exiting . . .' # In case the city is invalid\n",
    "        return\n",
    "    soup = BeautifulSoup(html) # Get the html from the first page\n",
    "\n",
    "    # Now find out how many jobs there were\n",
    "\n",
    "    num_jobs_area = soup.find(id = 'searchCount').string.encode('utf-8') # Now extract the total number of jobs found\n",
    "                                                                         # The 'searchCount' object has this\n",
    "\n",
    "    job_numbers = re.findall('\\d+', num_jobs_area.decode('utf-8')) # Extract the total jobs found from the search result\n",
    "\n",
    "\n",
    "    if len(job_numbers) > 3: # Have a total number of jobs greater than 1000\n",
    "        total_num_jobs = (int(job_numbers[2])*1000) + int(job_numbers[3])\n",
    "    else:\n",
    "        total_num_jobs = int(job_numbers[2]) \n",
    "\n",
    "    city_title = city\n",
    "    if city is None:\n",
    "        city_title = 'Nationwide'\n",
    "    \n",
    "    print ('There were', total_num_jobs, 'jobs found,', city_title) # Display how many jobs were found\n",
    "\n",
    "    num_pages = total_num_jobs//10 # This will be how we know the number of times we need to iterate over each new\n",
    "                                  # search result page\n",
    "    job_descriptions = [] # Store all our descriptions in this list\n",
    "\n",
    "    for i in range(1,num_pages+1): # Loop through all of our search result pages\n",
    "        print ('Getting page', i)\n",
    "        start_num = str(i*10) # Assign the multiplier of 10 to view the pages we want\n",
    "        current_page = ''.join([final_site, '&start=', start_num])\n",
    "        # Now that we can view the correct 10 job returns, start collecting the text samples from each\n",
    "        \n",
    "        html_page = urllib.request.urlopen(current_page).read() # Get the page\n",
    "        \n",
    "        page_obj = BeautifulSoup(html_page) # Locate all of the job links\n",
    "        job_link_area = page_obj.find(id = 'resultsCol') # The center column on the page where the job postings exist\n",
    "        \n",
    "        job_URLS = [base_url + link.get('href') for link in job_link_area.find_all('a')] # Get the URLS for the jobs\n",
    "        \n",
    "        job_URLS = filter(lambda x:'clk' in x, job_URLS) # Now get just the job related URLS\n",
    "        \n",
    "        job_URLS = [x for x in job_URLS]\n",
    "        \n",
    "    \n",
    "        for j in range(0,len(job_URLS)):\n",
    "            print (\"Getting \", job_URLS[j])\n",
    "            final_description = text_cleaner(job_URLS[j])\n",
    "            if final_description: # So that we only append when the website was accessed correctly\n",
    "                job_descriptions.append(final_description)\n",
    "            #sleep(1) # So that we don't be jerks. If you have a very fast internet connection you could hit the server a lot! \n",
    "    \n",
    "    print ('Done with collecting the job postings!'    )\n",
    "    print ('There were', len(job_descriptions), 'jobs successfully found.')\n",
    "\n",
    "\n",
    "    doc_frequency = Counter() # This will create a full counter of our terms. \n",
    "    [doc_frequency.update(item) for item in job_descriptions] # List comp\n",
    "\n",
    "    # Now we can just look at our final dict list inside doc_frequency\n",
    "\n",
    "    # Obtain our key terms and store them in a dict. These are the key data science skills we are looking for\n",
    "\n",
    "    prog_lang_dict = Counter({'R':doc_frequency['r'], 'Python':doc_frequency['python'],\n",
    "                    'Java':doc_frequency['java'], 'C++':doc_frequency['c++'],\n",
    "                   'Ruby':doc_frequency['ruby'],\n",
    "                  'Perl':doc_frequency['perl'], 'Matlab':doc_frequency['matlab'],\n",
    "                  'JavaScript':doc_frequency['javascript'], 'Scala': doc_frequency['scala']})\n",
    "                  \n",
    "    analysis_tool_dict = Counter({'Excel':doc_frequency['excel'],  'Tableau':doc_frequency['tableau'],\n",
    "                      'D3.js':doc_frequency['d3.js'], 'SAS':doc_frequency['sas'],\n",
    "                      'SPSS':doc_frequency['spss'], 'D3':doc_frequency['d3']})  \n",
    "\n",
    "    hadoop_dict = Counter({'Hadoop':doc_frequency['hadoop'], 'MapReduce':doc_frequency['mapreduce'],\n",
    "               'Spark':doc_frequency['spark'], 'Pig':doc_frequency['pig'],\n",
    "               'Hive':doc_frequency['hive'], 'Shark':doc_frequency['shark'],\n",
    "               'Oozie':doc_frequency['oozie'], 'ZooKeeper':doc_frequency['zookeeper'],\n",
    "               'Flume':doc_frequency['flume'], 'Mahout':doc_frequency['mahout']})\n",
    "               \n",
    "    database_dict = Counter({'SQL':doc_frequency['sql'], 'NoSQL':doc_frequency['nosql'],\n",
    "                 'HBase':doc_frequency['hbase'], 'Cassandra':doc_frequency['cassandra'],\n",
    "                 'MongoDB':doc_frequency['mongodb']})\n",
    "                 \n",
    "           \n",
    "    overall_total_skills = prog_lang_dict + analysis_tool_dict + hadoop_dict + database_dict # Combine our Counter objects\n",
    "\n",
    "    \n",
    "\n",
    "    final_frame = pd.DataFrame(overall_total_skills.items(), columns = ['Term', 'NumPostings']) # Convert these terms to a \n",
    "                                                                                                # dataframe \n",
    "\n",
    "    # Change the values to reflect a percentage of the postings \n",
    "\n",
    "    final_frame.NumPostings = (final_frame.NumPostings)*100/len(job_descriptions) # Gives percentage of job postings \n",
    "                                                                                  #  having that term \n",
    "\n",
    "    # Sort the data for plotting purposes\n",
    "\n",
    "    final_frame.sort(columns = 'NumPostings', ascending = False, inplace = True)\n",
    "\n",
    "    # Get it ready for a bar plot\n",
    "    \n",
    "    final_plot = final_frame.plot(x = 'Term', kind = 'bar', legend = None, \n",
    "                              title = 'Percentage of Data Scientist Job Ads with a Key Skill, ' + city_title)\n",
    "    \n",
    "    final_plot.set_ylabel('Percentage Appearing in Job Ads')\n",
    "    fig = final_plot.get_figure() # Have to convert the pandas plot object to a matplotlib object\n",
    "    \n",
    "    \n",
    "    return fig, final_frame # End of the function"
   ]
  },
  {
   "cell_type": "code",
   "execution_count": 97,
   "metadata": {
    "collapsed": false
   },
   "outputs": [
    {
     "name": "stdout",
     "output_type": "stream",
     "text": [
      "There were 135 jobs found, Seattle\n",
      "Getting page 1\n",
      "Getting  http://www.indeed.com/pagead/clk?mo=r&ad=-6NYlbfkN0AmrGAcUObcwAjPaeUiGTovJrD0KzlVENlQnoZzJA5kiJYOFhc2h5DIDKSoGOP6IFW9-nt5PAm54jThbJPtOGhEj6sTSh0gVydzxcTEvE5gCAyMn-k_x9bAQSKAZiEzAqIeGTbd1rK15P2QLSKLCTdYQ7VjjlJZwmKqJE4t_LRtwwwpP1poxBHy0_n5So-sZE5FuoDJ71TYsOrBmbx4iOH-EWLdWHUqK9REcIZfsQ77hUbrdSGMLjREKrfkIwQTyvEXTWcCgXkxXothEXM-SejA6_gTfmVS4WCIXo9XG4baJx_J6POY50RAQx7L9iD25DzFjKGKfJ86NVcXQFawzuPN4d9CclNAU2m3XfpIsO0BJJ3aGScGiVRY_FGi09_R43KDD9ImXJz32oqWa8Kp5Y2N&p=1&sk=d6034e8acd0d9a21&fvj=0\n",
      "Getting  http://www.indeed.com/pagead/clk?mo=r&ad=-6NYlbfkN0Bx6f83D1ZEszYZrSDUIjEzhuKvXA67UqQLjFgVFhCO3sFG56l9740gCqx6NIboL5ny8Q5eAw1WPajgfk7_egnsz6trrJXcjiZCBFHiRry9K6W6exSusln1ngersPR_KGtWiBBOdNt0HBmSADuSEcNEzPAR3EIgOlqhcGUjcx2WXjCD-nfR3_K7WYhsAARRBy9HFCTkGOhb4rgif0hc3pg3MXeK_lM4GZc3ekul_Tr9nbsVGMQDvUaFGN1hGPL8e5C0_eRwKVgCLor_PZYjTmPNkKzWJ6IRofp61twbHaI5kst9PhCVvI0Il1l3sLugHHfuMd5D82pi--7Y6Duu8vrRHc_9VLy2NBMN4j6etLmJ7tHl2fzvozepijGoAP3uOK22Z7ZWVt5lXB7SiTvozW2iYEJZ03kTN0pOC6KecSk5YYshIMY7rDBK_WBrEZ1jeJwwoQovwPdmIIRLKtqlgVwZYsPUT_M2zO61kJ9DpU35Ww==&p=2&sk=d6034e8acd0d9a21&fvj=0\n",
      "Getting  http://www.indeed.com/pagead/clk?mo=r&ad=-6NYlbfkN0Bx6f83D1ZEszYZrSDUIjEzhuKvXA67UqQLjFgVFhCO3sFG56l9740g1Sfirq2oBVmyR0zF6v00ijPVC-lMqAhQQ3iSOi_jyxR16SUWXOkwM138ItQK9DgRk9hFhmHr2Fast2E7EJsw6-CF-Z6It7T4wy4rXShvTRYI2MPR4IkmqxPWpKoMCezMTCfrDGSHsMBJNP1mM4U3jRcAnrYlqciUbxwRZZSXrSWofkZwzvOfF8CRFAlaTN6uwUeiFNIUppmtuCHhdu2tf3hLAUwti2_lv9AJaUR7O1U3Q4bjfMS0F7gz6Dm6goAOh4Guh50hqcc0e6dkQMApf2FufEn53iQkUpYosDI9ZwaEZKdmaNZEbd6Y3PwbJxXYCe74ersISp0m25wW8irJCJ_AKT9s8BaG1BLAhFRKEDOJA-O4EBakyQ9oi5lMz2Oid32wPgMkcVrYMQwbC5bRODgeAcNYMCGpohQVvx4b8_uykk8h2HjmgdDaCfqCGtWxjuceaIg6KSARaowUGgARdw==&p=3&sk=d6034e8acd0d9a21&fvj=0\n",
      "Getting  http://www.indeed.com/rc/clk?jk=ffcb89847bf3963c\n",
      "Getting  http://www.indeed.com/rc/clk?jk=b94ed7e3c15d1838\n",
      "Getting  http://www.indeed.com/rc/clk?jk=abca041620be4161\n",
      "Getting  http://www.indeed.com/rc/clk?jk=f083515e86a60135\n",
      "Getting  http://www.indeed.com/rc/clk?jk=450f886b8fa2e9c0\n",
      "Getting  http://www.indeed.com/rc/clk?jk=920bea903aca4282\n",
      "Getting  http://www.indeed.com/rc/clk?jk=541c1dfe3cf4f75d\n",
      "Getting  http://www.indeed.com/rc/clk?jk=7dd10393b77aa8d0\n",
      "Getting  http://www.indeed.com/rc/clk?jk=f7a4597f1ca3ef68\n",
      "Getting  http://www.indeed.com/pagead/clk?mo=r&ad=-6NYlbfkN0AmrGAcUObcwAjPaeUiGTovJrD0KzlVENlQnoZzJA5kiJYOFhc2h5DIDKSoGOP6IFUYbvkw0jbGZctA2lQBqzfuPMagR4lWPGaEsvV2eIlVspeDP7Lnq5Mi5-ynhOHoST1jEHR8yxhQ8TmqNb5nxmc_7VbJVmm0BOpT5eYA9pOaVOlZfAr2ve4KRhVlD3X-ut3DNufa6y33tGFu9ROEj7irJk9Y_ySsC7iRwyHin8dgGnSGqBllbs1_qzvFXXpeTxfr2zSM1793M7G3oadK6_K2EHONLKuXEtQpNnl1h1CL7JvJy5SoRvSRTQcpAuvNyGX3psSVe9jBlYQrxWWXK4UIslH6D-xNshtas5dxuaIa4-8EhQmmNWryGgZ34PNwo5JtAEJ4nVjk8RXm35vlTWao&p=4&sk=d6034e8acd0d9a21&fvj=0\n",
      "Getting  http://www.indeed.com/pagead/clk?mo=r&ad=-6NYlbfkN0Bx6f83D1ZEszYZrSDUIjEzhuKvXA67UqQLjFgVFhCO3sFG56l9740g4TUu8d9LjOtgGIvFXZKlm2KUT9oBmPrJKUMT3CYsrj9NeJPoGVKWTA54vfFsCy4YsxaqZBpFCKHr187pBi-1jgK4Phbaxt5OFIaFGF3c8Tfdq6Pa6fGTOZc32eDPNbTulHrmQGECv2Ohu45JI0-P1kWDrr0396hKFRFVIVR27ejN8kBkOL-TDq945PBh3-64E1YEtJOD4tnFv_0PrE1gk03izjd-lmkSgaOgcHbB6qgGuDH8XBMsRdPIJackV1myIkXDoKI41gU3B5xPABB6QArmZOoaIKAyAFIC27kWRQLmdU9ZPXZBkCd2oUmyCqJGnE3wryNi2b3tFc6aarnhtyf6ob2ADFFi3_PRG0OT6Gz_C3bFiTXT5A-Vb4o3JAxEYH461Rygo0OitAwOI2_vdzO7LFsPSucUvKQpMPVqETUlNJvn1wvjNg==&p=5&sk=d6034e8acd0d9a21&fvj=0\n",
      "Getting page 2\n",
      "Getting  http://www.indeed.com/pagead/clk?mo=r&ad=-6NYlbfkN0DUnwefsF7K5sI9KMOiuTab93Tl5aV87o5poBYEvjEbgPyqsyrigW8Z30v5TCRVXkdu1e81tuMj5l1w0LZVz9NSpNTYp9dRiPO2SvrE1iAxg_SRdTPOVD0nhAE1YnjtSrDfiUIQ_78TZYgcGkUyV8ibdOP_BdL8UlmMpDsw5C5fq519t7ngR3ErLZ2joyTcYp5WH5qvWy2hTJLHMsX6pHJfgkO08m6GYtXy0Llm1mxMWpjbNIiAGCj9p-TIpW1QpoZCUebm3Ei-xdjSfjT74sw68BKHBizwpZO6TMtLx0LHaAHyrq6_yRqwTsbP4XCIsa_WLtcNV7_Ea3eS0fhzP5mRnw6kCp76hRzg-vHWoYgIVQd-vST1-2UP8c9BVjDQuhKI-2RCobXCBmswmH55X0BvmNATMGqbV3LiWh2EBtpzpF865u2ljNNBHmowoLwAXnUUExZnPkp9vlb14S4qEHfOS66TV88spu2sVnHkIAm_ytbk9e1pYw5xuxDmLBuKg3OgRBGpPb1RtfAuXcoGZ6y8s_fxGH7dqIf320UxNAUyM__dOTczYuPTNsmKwO0EOyzhUwNHJfoHAEobus4efLULKRIWrhgnll9S_O-YDT11GokyRkdhq_OK9DSRr4gAm1XbdILvGmKvjynEkMg5Ys5L8HYq8Kfsoc76z1E2XRhesC2DLRy06JdAsxcZ8SxRRkMzjGah2ck5mwMlCsu9ZzHnk8HiEcnLDi1H2kgLyjefKC5mrfN49M7E54veiOogqT1vosynORgQOYEnO0SNAYMJKC5ROH4zxs9xtgxjZz9AhmB0yu2KMr6slo4X6_VfcmLq23vGveiR7A==&p=1&sk=d6034e8acd0d9a21&fvj=0\n",
      "Getting  http://www.indeed.com/pagead/clk?mo=r&ad=-6NYlbfkN0Bx6f83D1ZEszYZrSDUIjEzhuKvXA67UqQLjFgVFhCO3sFG56l9740g1Sfirq2oBVmyR0zF6v00ijPVC-lMqAhQQ3iSOi_jyxR16SUWXOkwM138ItQK9DgRk9hFhmHr2FbBSrqF3-tVnBEDfmkgB7x6mJcdrb8Ixgg_QqygEcZK-A4f1ubflmf2U4vw8043bIylDD7D-OHNNaGSZH62mLSXgkcM2oakXzovLt1GLPsfM-UDMLibqVvs1RTkTK-6ThmQ2UWNzXY_FlUq7L0S4HTR7l2Q1u-31A5A02ZQ453g7Q9CTDnYAUejUMBvG44m7BNgPBxv6lMYlruly9CIU_WEW0u_wPf_9ke5a4EpaR52mYZx9HIQ-71RKFQCrTCpYeefpA_Cze-BbHeBTmSxsSP3fJ6Hy90ubsEaktUHekJ1xFbHnwisTNYuEg1iSf3NcVSUvqUP68WgGm6P58JfNdj86pFQgHv59NYzfp_fJp7X3B4lj8crOtvPBU8YBbRINcc6n_yA-wXNfg==&p=2&sk=d6034e8acd0d9a21&fvj=0\n",
      "Getting  http://www.indeed.com/pagead/clk?mo=r&ad=-6NYlbfkN0Bx6f83D1ZEszYZrSDUIjEzhuKvXA67UqQLjFgVFhCO3sFG56l9740gydEEg-g-kEZoLq-a4nMO-3MQk9KPOhOzcP5gwubOJsA18SGy_1PeRr540gmkBl4xpBuIjjMvAZTNZYTU8O47_KzIpibGxtla0VSL9abJVwm5NLqzngmUcQy_TOzLAmCmOtpL8RdRudPqk736oyod1MTl-NvdROpFYxNUQwvkt-zEBoejjFVTVSHKLQh704MRHo8tnKYne6mj5u_mWFjnkDQ2DPKmMde9OnWeI-R2om6uPFO0ZmfOW3lgzhUzTOGfedliBUe7ukOKW7yFrCM5EYo1I9ez15ENRoyYwK5udMAuR1Wu5FvYq2_rsdX0V57VgGxPtGoDSTxp39w3L7SiGyVHq7DugZxJLa6ibgaLAU7fXLSSjiCoDXjS2siR7yyJJvckJ35lIkMSHPzpgDWBvnPR6UF-o-U-Okqeap-9V_aJxKWyeBtBgiBK2HTKk3-6Tf6ZEXowqGI=&p=3&sk=d6034e8acd0d9a21&fvj=0\n",
      "Getting  http://www.indeed.com/rc/clk?jk=abca041620be4161\n",
      "Getting  http://www.indeed.com/rc/clk?jk=f6b70b6dd3324091\n",
      "Getting  http://www.indeed.com/rc/clk?jk=456939af0edbeea7\n",
      "Getting  http://www.indeed.com/rc/clk?jk=5a48cbd9a28df8f2\n",
      "Getting  http://www.indeed.com/rc/clk?jk=d2c2dcf5e5916acc\n",
      "Getting  http://www.indeed.com/rc/clk?jk=920bea903aca4282\n",
      "Getting  http://www.indeed.com/rc/clk?jk=3aeeb49f8f2d9727\n",
      "Getting  http://www.indeed.com/rc/clk?jk=2245f59be2046d90\n",
      "FAIL\n",
      "Getting  http://www.indeed.com/rc/clk?jk=c224af7325d519e7\n",
      "Getting  http://www.indeed.com/rc/clk?jk=04fd3ac1c3c0904d\n",
      "Getting  http://www.indeed.com/pagead/clk?mo=r&ad=-6NYlbfkN0D9Z_NigMRFBqnj4_9rPbMnaYMSgnKsRu0gcL5XJCnD3bILsLwsaf7ngR0XhyawA82EX8jJKEXlCwgty3zmgOjDokMbi8x6HMTQf5iNb8VKdxw5OZDW62RIM_U6-wRG3-3E0xQ3_t-ckmDH_jb_b1Dc5Fv5YNVmTR7BL0HMjQ60Hy-Tf_px9ayL6dTlosaoBk11hOqbh4Ry0Rx5KyT6SBO7msvC9XjXFCKBgVGXPgtRysRVwql4nS6I47vsugxLFjqBtdfMSdH-mBU9DEBqXtDhlk5hAtGURUYtIrRzL5pQI6XybS06zTcI0TeZ5Zsb-AmJMYprWh69CHLMp__cMKEoslrOvmCyQmwNYR1zQ1if2quJNHGK6DTN8lHXteZy_mMy2uPHySkSm2cneECTwmct8IVK05ea8N9LUypxdylJ4oS7PcaLc1aJctCFjh4R8M-QdVkLS9S5cRiWOu4Fll3GSTE1nRrjOOiCdXZDXMjooRlfnbk0Q_E-quf0Wonrj-ur7bQM7HTqz8o5RJk7490UvuMj2s4Fs_-zCAqoRI_jZjJix1EcOJK_Y-4ccFE2-ugoJUpG942a5SOaIvTGxutHVHIHQjcVFGt16py6PmTY5v1BbysNdQQr83vq5bbh6hvBhg4cuzLiPTbIjTawzBkGcYq2Xo1tj5cn28rk47UoC40OU6huAcJyuqufT4dIxjockr1raAjYm1rlhCKnN-M_jiXUY_pjhBtIE1uuklI06s0jwuoZ47FGsjd0kmRezb25ZVqPtvMHVXZuQ3xw12tUGKj0fMJp8q9-gW6k6oVfipxXesLAGQRhn8icd3WeXFvNe3mnAHp0SDDyoHxn2HviUYW2gHqHfJtwMfP0ZBi-jid9LbxA7iDVxirialZCWPGa4aXhHp_qnMowLelZlVhLKA496Tr6MgAXKaeVw5cgNbsy_NHYu9xOVVexMDn_Up6UhRuZ394SrQ==&p=4&sk=d6034e8acd0d9a21&fvj=0\n",
      "Getting  http://www.indeed.com/pagead/clk?mo=r&ad=-6NYlbfkN0Bx6f83D1ZEszYZrSDUIjEzhuKvXA67UqQLjFgVFhCO3sFG56l9740gbqKpGj-uv6lBIWnx3E2InUREwQAvJjPtNOz-Y-cLQbbetH0g6bieoxUnUfS-FY5ZrsMOVxyKydG7EzL67E7QaNz3mMcR39ShmVjPsYuR-g2PJdhRs0YOA7Aje8pVXTRmjRCam8rtjHht6BKLEmnHjiEa1CAhQ4dg51cRi1oLDrJCyTIW4SY2yJMFMnggjdKYVFY-WODCF68fr79PNOsT6mft8i2Ie-IQ0rqKTWh1QCTvRoG4q2akmEZKdANp0rXbkjWUg6VOVWvsW3otoEftkLk43_hHCaohLY4QAY5QlcuGpGsqvjLiAoh06fgStOefsqx0wQBd_h508Jcw6FYAduQQ8FllN9-yvLc4oCUSLhMz-rQAO4jnWK1pWEuDSrvFhrg2OywzluBjW__HMw_koqkPbBtpMkr3mHldQD-STfZx1eOLjFvigw==&p=5&sk=d6034e8acd0d9a21&fvj=0\n",
      "Getting page 3\n",
      "Getting  http://www.indeed.com/pagead/clk?mo=r&ad=-6NYlbfkN0ART8AynpcI8jCysl9u90SKNU76iznY2rBh9lW5YHXHcUDhLToNtJlfGEOsPvVErzXZQcbgpFjHmwhunbAigJW7Jsg_lZ6Dbd0Pckndf9y2UmopZSFU51sFGjERq9w_7CQneDgNOlReGCzi0md-R1aGtda84Qgqc_ZSb4jVzLb_F651s3AnprxkODSEeDe2jZWdfG74ldfQEJ4ekso4unLMWafF_UAiYsBNNYY42VmdEVYxJUBzCXgkU2QPeYBGKU-sECus8uUeKLiOTDJSZOk1NI34FoMT9Nzh6ahztL3jMbKFrfKfPSBDyJRNtIvqTzqr_u8rxMUcenkayGyM2eNPU_k1NoV-eBolo7966lqM3ojoIIacr8pySZ5Y9mpjbjS-VDiohqg676Zn9nT1Nc6iZUwapH-q7xPN90nByEXrHVv1gECMn5nrrGDyZiIG1ggX2uUqoQ09DXh3GGNrHLnxJpnHekdYPvFTDNIq5qlyvLTrDPmXoIDzbruiC_rC0uU_lxGQLTn1MN94e3F8iQb1ymivNbQbTI2qNvkCFY0u--RH2xBhfP-CzSNVh6mdyR8svdx2UrmipPxA3clILp8wGJ047Ua5MBHa0dgrzMwLW7JHjEpyaQg78yx6y2umo88Y3e1C94etGfGBpWcc9L-qeGsptWp0oa3pkF_w9JViqD_De2QQgcOYu_FfcFNlMqQ1fZby6GQjyf_P_Ksy4xYA2GsPPT2ovKi3q0EYhS7iTeYIiFYpuUwV85IBhL1wZETZOZ3wrVEHAuQpVAWVo7Q3rA8uq_XALpajw4Gnc9HLbQrunhuyO-_P49Pjsn3AIOQ=&p=1&sk=d6034e8acd0d9a21&fvj=0\n",
      "Getting  http://www.indeed.com/rc/clk?jk=92b56ddc74694e65\n",
      "Getting  http://www.indeed.com/rc/clk?jk=54d29ad68d6f4e44\n",
      "Getting  http://www.indeed.com/rc/clk?jk=d2c2dcf5e5916acc\n",
      "Getting  http://www.indeed.com/rc/clk?jk=5f94d7625aeffec8\n",
      "Getting  http://www.indeed.com/rc/clk?jk=72b81958f7fd4c12\n",
      "Getting  http://www.indeed.com/rc/clk?jk=3aeeb49f8f2d9727\n",
      "Getting  http://www.indeed.com/rc/clk?jk=e09291c557abde98\n",
      "Getting  http://www.indeed.com/rc/clk?jk=24f5ff86a974e89d\n",
      "Getting  http://www.indeed.com/rc/clk?jk=a9e9a2f69c0a2005\n",
      "Getting  http://www.indeed.com/rc/clk?jk=5fa6a499bc90b059\n",
      "Getting  http://www.indeed.com/pagead/clk?mo=r&ad=-6NYlbfkN0DUnwefsF7K5sI9KMOiuTab93Tl5aV87o5poBYEvjEbgPyqsyrigW8Z30v5TCRVXkdvUsVywf7cfpaY2gRHrzGwnBlx0-7BQ6dR54pXo8kMZYPIxk4RZe8qaEhiJpSchG3ehfg753vIPflKAXpi11ALuSaHS8bO7NeXXaUF_8sxYll1_27ZGK-_UGoygEwyBbjAHP6xka_3zIQ6THFQNre8LcuBQnKAi8pwImxyZVWuTPum9pT_GYqMJ67iEzafM_yyqqC57PH8dBKUA__rKVOo2WZ8a1mvcucyTPoLVCgVlJmj5gOjceQKgxqAeny1XW4aIMSvXTy7LCwFSXrTGRJO_S0HC1-r20oace9LQ8qecdDL2PmsK-CqBwXF8FWUkcHseuw9ltXaFz3ahATJkj_k84VJVNjxdqDdk6t7vttvpX9mN-cdU929iC84o6T-2wVWfKWGyYc9IVqbUZm8LmMPoZB5YyckUdIM0T4ZspvaHA1BVlV85lFp0jftiV4nRuBK9b7bXWgr803HdIQnQrC9WzzcNkqrz-FtnvS94zhRgHNHVk9kp-5r7Dr1RidWjuJ95YY5138Tm1-kBTu6iZrkgPUf_3ggSN_N4qZdfawOmiCUFIe_5WhkgMuP2yH5SDmqNj90EBNkGbkIy_kU5wXdZv4VsGX_E79JHT4KZAKb6JNbfB27b0w6L4EiFjcvWKmy3L5bk-MAWavzaGQU1WghhYtmV9gJx0mDK_pPVi7U8L_83Q_eXvGXhpsLHCEc2-YSJKpUbpWbZa_VQNnqSUmGs-uFobt4nDS_2WJ1SJzVBZ7fkDbPvc3_x2Yop7RiM6A=&p=2&sk=d6034e8acd0d9a21&fvj=0\n",
      "Getting  http://www.indeed.com/pagead/clk?mo=r&ad=-6NYlbfkN0ART8AynpcI8jCysl9u90SKNU76iznY2rBh9lW5YHXHcUDhLToNtJlfGEOsPvVErzUbMexhpWkL-wI4O7XZmaVg1D1gPNaUlK7b3skra12U2k05YXtZpcI8aIryEuPhXInsA4py7RziwRpM7oh1ZR-7eS3u1WXESR78hWLKHNRHo1nuMJaVo4xZJ1IdTH1qseAAJyWHVRKvj6sya4rMzazSBTaFVXUxkEXcNiOyGlav5UTT33iMtWS64GSQ2Uf0o60B0sipbFOD8_2Qw-TdFFXtzzDP2OBieI2YcZSwqXe9GaXnPnODy6CP2n9r1hKQLTFyqdgLAgTDNKgPtJK4vyPY06rS05qB6YUqCH7T7lC918hIJ-155mAKCjX2626OgyLVsPD8DVGog-RzBaYgyuM-6x5AcaJE4I4WBUBHmrONyTHxTqFB4Uu2vQjzdi4sIOXi6jAhrD7Z4VirQzy3sGRFckZMcQ1fnKe3zQh8Pu_5yYEtjDsTd4wcWZDbWFNZdo0qhiKobw9VGmqutc-J7SfdBZzH1Y-o_Vdb-7bEzuvrZAMgijzAQGg20mVrBfich8f0DvUZtvL_qE6Rq5FDr8t-5otzjpx-A9JIn8wIlXT1YbRZn8DDJ02ffZuOTAE2PF05M_Xc2yjcRZ4WEUygL6jUoZ3a9B-5gOYNgjDxDmj3dlv4KmPPJwxpH9nrKvk69vt8C-QVymr3Zg6c1sLlYylu_6GfCHViwOfCQ3smkP8lUatepVa6dVFjFVdIPrGV6Wg7BGttrOy6QSyrEH2F_2sRXVE_8r0wb-Hwdwrbj_8uDOBOaXrqgE-lK-uoD3nIBxlPPN6pHihfQLpjeaLc3VsL&p=3&sk=d6034e8acd0d9a21&fvj=0\n",
      "Getting page 4\n",
      "Getting  http://www.indeed.com/pagead/clk?mo=r&ad=-6NYlbfkN0CZTNjLMuBQEc4UwMDLf68nYWD4vZp_o6pW13OpR78fsbfB0BqE3Z5GoN5ZSiWdJiiaIC61-WXZ9UZ5YJOFSxev9wO64VmkCTtQlO80o9tixxvmqbIV7jBbpcyk_lPulubSVKJDkQS_ZybkyEDaCWHlWQnwQMhu75qM7_VWrt953tRYgeusiF7YHIpUJsKJ7eVkf-bgybDMj6SRu6NJo8kHHA6Wy_OyWN_6a9wohvEfuHs6Ma6SZ2LEy7esOcDpWvqtUjkJBEjka8Exd8cPH7FKJnX54y_vStE7qcC56JgK8ro1zzuWv067W7fep30E_igPszAvm6Gqo_A131qmSOxpYCI5jhXrEAagDEBqkWI9HWxQE5H3yJN1sRz2e0B788oXA9tuTvKjRWkwVrRN5Qz3KsipvPR8ZJ43AnS0XsuMJUvsPDXay5DSUryoMAzH4_Sn7f5bZQgShvwHc5uztR1swfEZx36PNLYygusjLAMSluvxTd-H1Hd27vXByBqnf3pfRKDFAIzy2ciAzm3nYukR7LaxB0Ht881AXS26-aXHb0klUpt1L5NQ&p=1&sk=d6034e8acd0d9a21&fvj=0\n",
      "Getting  http://www.indeed.com/pagead/clk?mo=r&ad=-6NYlbfkN0BpR2z_SrePQnnSGxq1vcY-YI-c_LoU9DEIPQwLT0OMXOiE3jeyPVw0VK84fmuVfsamJKT1MemVRObYHqFsEPj2N7hgsrQvnunDGefpsmKi14vyz3usiar3yoXJQccQZGTq5MshmiQs2zQaegGhq1n9yKZGyCHMktFuIyYeM_WWgAobzVgG1fCPOE_CnGpKKuXOOVbjGc8hAze5ztmMdCkG5qKAVrINPKcbzW4Bqe0tFSet5duY4Fg7z1hBFXOR-gFM7XVz4aD_2K7sG3vbPe10F7m8D5gZH0I-iqvHXSf3F3YHVwi6H-mmul-Tou2czwvvZ4ngvirYkqq-PaFwtN4c3NNuXzI1IE6m8RQIjnzFHX-XkB9UChVgwCntSZgqwcifk2hr3ylufnE3uVdwNf3uBFTJN34T3ufzvswjs7I-NbUC_ob1nAjrmsmxM3ATGBN2Qno9C-MV-GxnpFQ0FK9iBzypkFqWUZ8CkboSgljwnMpwGhe-TN1UGMEnid1U3f6CGaBys6j_GmZ23Ch314fXAL2JxALF6bw7vunMmBWbpv4craRMgHJM&p=2&sk=d6034e8acd0d9a21&fvj=0\n",
      "FAIL\n",
      "Getting  http://www.indeed.com/pagead/clk?mo=r&ad=-6NYlbfkN0CxqcpVj1EFcAZWHx6smIldmHpp1G5t2J748Q_hJLris5SsQUvITOETw-tlfgFb_yFY6EUL_PysnqLOutg0Yro_mZyaU5xj4Jauda552Dboa8uQYAFW8a9pDpbw23phB0OBL6iPZowOJF2qtw6jETZq3GURgBKLUwBeFOII_TV3IM89MhMZXVI6z3Fi0GUeOir-ZtTgru0XBiGws17pB21a1S7eD64KfBlTJJ5rc92l39DVqho1U5MyWUILh8Q0bQBBuoieFJxpmOwQBJO9Uy_hTPT_Kj4i-5MbMEUF_RkmqFtHPvGb6qXvMsIvnZLA6rRlBqLjbR3M0B_Cbf5OsOdr-_lGZEE3cTsnYQg49OCHe8mQahEqbi5tJJ3jOBDJVYdu4dnEHlPPcm_FzjDVy7acsQ9RE2idoCgN01D9OiGp2lBhLgcTXPGL8hWwQAnFwljn-BULBJsqSAHzr2-pez2JB0j4rfMt354TNRbu0QTxG9aXL7VNF0iz1_oPdh5rroTj1BfrG9bPQg==&p=3&sk=d6034e8acd0d9a21&fvj=0\n",
      "Getting  http://www.indeed.com/rc/clk?jk=e09291c557abde98\n",
      "Getting  http://www.indeed.com/rc/clk?jk=a9e9a2f69c0a2005\n",
      "Getting  http://www.indeed.com/rc/clk?jk=54d29ad68d6f4e44\n",
      "Getting  http://www.indeed.com/rc/clk?jk=fd3232d8e827ff0b\n",
      "Getting  http://www.indeed.com/rc/clk?jk=a7c23cdd901358e0\n",
      "Getting  http://www.indeed.com/rc/clk?jk=24f5ff86a974e89d\n",
      "Getting  http://www.indeed.com/rc/clk?jk=feef1e30776f8b7a\n",
      "Getting  http://www.indeed.com/rc/clk?jk=815c31c98115163f\n",
      "Getting  http://www.indeed.com/rc/clk?jk=4c0746e271ad390f\n",
      "Getting  http://www.indeed.com/rc/clk?jk=6c07c3c5d4eae369\n",
      "Getting  http://www.indeed.com/pagead/clk?mo=r&ad=-6NYlbfkN0AIjC5qKkbE_crsnKF-CsewJ3GikD0txxzOnEPDe-1oyRzPR4B-y7J7rKR_k6G65oB39POnDq0eTlSweJZ9YiYpgcIToysKnLe4WOzbn_RUiVL_p2QKEWSEZ1Y1h0af3un2cyoMDGLGczzv9oedpimjyv64nhUkFlYS78OssoWuwtrS498BDzhDLvajqVG2eKPvut4tbQGEF-oltTaSyulZmBtnZ8FoH9q7s4zOPi8HA-TJ5zPs8KnXNE04Kwt0ty-Kyn-wb3Kej0qlOtN-CSnoTSBvpQ-puaZ4dDGcKyqM_y44e-Xdxrdg4lNTJtBCRKrnRo5-13PnmJIYAAN66GS_ALzBDffFNwFj4_A4RUesPc8GApWwJZsG59LjPUNcJPCu-363buh9tbeVhBIF2T3tKXfwQXNJvGEUC2v1jRlnBPqYAM0hsvwXl-3ewWRqTNVhtyyWE84f6Mzva7RRIw4_W9sxFY4tx7pKZwoojRc53Q==&p=4&sk=d6034e8acd0d9a21&fvj=0\n",
      "Getting  http://www.indeed.com/pagead/clk?mo=r&ad=-6NYlbfkN0BIkQ0OMzm-5ZPqUVknXbFZ14C4zJHqqX8MS0NHs_4_OvqBXBThYkwExffY7Lo10YpgJzvrHnd1fgwMc0ZbrkCogFmQ9OBdNRxGAykdJfOxOPlo8Rkwb5PhrZZ39hYpj0jrNHW3wOynC6QF8iYWI9fewfdXT1n0zP-wOjl1MmT8Pwfgew7GPHmt4h29N-59cTr6Bg0pa1Zab6LTZp9z8_9BAbl8Ea2uk5whWoiKoXe9MSZ2uRfNddR1wprZ7vMaeCNLg7I9AdHNcAklemFqzZkpUBX7aadZqJnzQX6YV2jcSt2Bxw_49SN_fR_x3TEYPylyUiDOr97dxeDO4N6STBghgdhchcld0MNWOOMzz_N9Ws5EalmJ6hyahs6gSuxUN4FF1MT7LNxCCh89ymEG2B3pAeCBAR5XSZGqnAqhHyPVag==&p=5&sk=d6034e8acd0d9a21&fvj=0\n",
      "Getting page 5\n",
      "Getting  http://www.indeed.com/pagead/clk?mo=r&ad=-6NYlbfkN0AmrGAcUObcwAjPaeUiGTovJrD0KzlVENlQnoZzJA5kiJYOFhc2h5DIDKSoGOP6IFW9-nt5PAm54jThbJPtOGhEj6sTSh0gVydzxcTEvE5gCAyMn-k_x9bAQSKAZiEzAqIeGTbd1rK15AQHscw4RUHpM0PtDWHk54GWEbaFrZ1IaAxmzzXY1y1rjb_2wvJkRowBmuDQ3eXJ2NvJw2OhCRwauq6OF0M987dFvu_po_3Cy3ALZq8lCtZe0fzrCXtNc2zCjACwNJT-XVKwK7ISYXwg8vaT6VayO-8cFnV0GzaAo543BvAY5wre9aMzBSh-mGwEM9CLMVsrS0wyFHKTiCFpscTjNHyshlu-18u049g7Ff3j27PYDh_GfSR8Ho3KEz_Z6AQMPItPK_9jV4X0-dgP&p=1&sk=d6034e8acd0d9a21&fvj=0\n",
      "Getting  http://www.indeed.com/pagead/clk?mo=r&ad=-6NYlbfkN0Bx6f83D1ZEszYZrSDUIjEzhuKvXA67UqQLjFgVFhCO3sFG56l9740gCqx6NIboL5ny8Q5eAw1WPajgfk7_egnsz6trrJXcjiZCBFHiRry9K6W6exSusln1ngersPR_KGsN_OXF4BqHMpAtJ-dRHN9pkBKBgSlMWXuRU503Ckqwd0A-AVVEeD7e3NsiKsfCj0pljJouiWv6RGMlUqMbfes5QdzDtDrMUGS3NoT3o0Hbe9_ylu6jr7kLUy3nS64HldfD0Qr2iDfRBjRBQgeJ5kvnTXFRMzu5qsyr2fVoi2iHu-wCiKyeLYHSH02iLBhaPG0kja4N4NCJ2J4KsOwLjOMkZxoupm20SmVxJ7_W3g1B1y49woU4wNAu_howHGgATv5MMZFy9y0IeN-eRy3Jjq6OyXWtiA9fflzWKhZNPcnW4XNUJuu1RsV1JCDBZ0Smkx1m9T6dYE3VxWh1RR9b1vtdNvxKgdepAU2uilcdhr_QCw==&p=2&sk=d6034e8acd0d9a21&fvj=0\n",
      "Getting  http://www.indeed.com/pagead/clk?mo=r&ad=-6NYlbfkN0Bx6f83D1ZEszYZrSDUIjEzhuKvXA67UqQLjFgVFhCO3sFG56l9740g4TUu8d9LjOtgGIvFXZKlm2KUT9oBmPrJKUMT3CYsrj9NeJPoGVKWTA54vfFsCy4YsxaqZBpFCKHweXeJkv3Y6k9Wm3R6EVNf-OMQ27PD7WkYFgWG0b9RIDniXzr2xz5FOjMX0SchvG2Scdj83wrK1p9XG4qTf6Dj3KqDknuujHyLxOvWQqQ01nxCpwK1OJvBaaHVX-OYGjofqA0ESJSY_1XbYdC1ZaEmzCYBSzILboAiK4DX4vaSj2pJUKef-sjgblmejhg0Nhk9l7ShLypEZUmBjPgszdk9NbV8RE6odx-9kJlCRWkyI4uUE_B90tOZh0fjVB3FRJYdunXO3F7bzE_lCK6WFjVUF6Wp4INhv4QSpsL9k7wuEhGKOOtM6Hu6WZS4vY3mtheP_MBk9FeXqBL4wHNkTDSFxnXIzSCHonzu3-5-eORXSA==&p=3&sk=d6034e8acd0d9a21&fvj=0\n",
      "Getting  http://www.indeed.com/rc/clk?jk=70d56471a12184b3\n",
      "Getting  http://www.indeed.com/rc/clk?jk=0b2e2fce86302af7\n",
      "Getting  http://www.indeed.com/rc/clk?jk=7a452fede543dc86\n",
      "Getting  http://www.indeed.com/rc/clk?jk=866b9da4672d8377\n",
      "Getting  http://www.indeed.com/rc/clk?jk=4dbb8485dc248470\n",
      "Getting  http://www.indeed.com/rc/clk?jk=a449b4e68e8a9512\n",
      "Getting  http://www.indeed.com/rc/clk?jk=a0a05eb6951cdc03\n",
      "Getting  http://www.indeed.com/rc/clk?jk=6943f51b68739e29\n",
      "Getting  http://www.indeed.com/rc/clk?jk=5090f12bb9311851\n",
      "Getting  http://www.indeed.com/pagead/clk?mo=r&ad=-6NYlbfkN0Bx6f83D1ZEszYZrSDUIjEzhuKvXA67UqQLjFgVFhCO3sFG56l9740g1Sfirq2oBVmyR0zF6v00ijPVC-lMqAhQQ3iSOi_jyxR16SUWXOkwM138ItQK9DgRk9hFhmHr2FYnSOsFPrs-hNtU3w6My_ytS6kNm3rRl7HBF88SnJ5IErVQ-FOsVkAuJbCxeRo2mABBOZsG064CxbKeOrDWXG5m8oaqEvcQ0RiBFIZ_a5dUwK7GI_KdwyJKAIikvj3I-i9bRz35-snwzSpxTMg1zZv5lswPN3w9aY1JCQHZkJ2C_nyIFbqW-XFH0ZBXb8E1QKkwyu1kLdXyle3OPjQDzGMJ6ijlhUbxECzqbXhyv7Pph2_vYwrRXqcq1sVp5sDaZlj19tJXbkBzIdkGJzEgGRc3K8Y0Lpd7FV5TgI1_NkmDkyaP4GYhqD1DqEVR_hrycnd9P52XukEte0DC3rJFGQRXQjqd1SkXMWdeLyxYu7xniIuISJ5pEaewA84z2nwADSCK5NMIPMMq5A==&p=4&sk=d6034e8acd0d9a21&fvj=0\n",
      "Getting  http://www.indeed.com/pagead/clk?mo=r&ad=-6NYlbfkN0AmrGAcUObcwAjPaeUiGTovJrD0KzlVENlQnoZzJA5kiJYOFhc2h5DIDKSoGOP6IFUYbvkw0jbGZctA2lQBqzfuPMagR4lWPGaEsvV2eIlVspeDP7Lnq5Mi5-ynhOHoST1jEHR8yxhQ8VNFX9oPGesIFbnDMNgHGhOrqXyRjOX80X9Sc-onwybWhHfKlh_vtfLFkg1WmEjKeUeIP5OfSPhdlTNlmrHPtzVyF9y6kD5xOfyROhGjiugEEB7bjD52mAzKxLh1NEyylpLEKhS6MHtP7S5NlAxNXkYaB-hreB4A_GbF_3oroi1XAQu2bYMzObfZW3nnvO6_CVP9jR1eXcjGvcPDV0Cg2Nh-7AjQLwt6wpQlAczpu0BcTwkFXfLKNCQ4LTCDIbB009p5x7W9baWl&p=5&sk=d6034e8acd0d9a21&fvj=0\n",
      "Getting page 6\n",
      "Getting  http://www.indeed.com/pagead/clk?mo=r&ad=-6NYlbfkN0DUnwefsF7K5sI9KMOiuTab93Tl5aV87o5poBYEvjEbgPyqsyrigW8Z30v5TCRVXkdu1e81tuMj5l1w0LZVz9NSpNTYp9dRiPO2SvrE1iAxg_SRdTPOVD0nhAE1YnjtSrA0csJiROElsT-GtnfT9F9wGh9zvzCl51ttcwNcKq7NU2bxJgVPoCbRr1DzYjzm6WV9fhkH5Je4yiEgOAsmNDCJSA2KbvcjsJrcafZad3BOj6ILZ2XVSg3NEHEYm7DLfvW6Byj6WNqoC2bELP8qC9dRppbDEHfsSO3CRRE4AX56wWdeAT8qeWmT_1yLOzuk1pxjOQWwGNY_1adXmUA6OWhPtK4tAHeYF987MFoqwx7IQUn72si7N7dTOCfItXSdCZQ_xZ5W5uiCVCtZjWLXZyafu4oODCkIDzch08R0ofoFE1dZo-D6-k2muWekL6UezQxfWh5i-hEbL72Jc6NPzxZRpUm1PTIwkZuurA6CNtkIOpEDn__wj_ZZWLJLSb-Npqb1ivfPmraGeJLsXEVND40lePVuIZbNwYk8niSlTuK6gVfWAsSvkPFUS7RLu-1fTON-xkBkTH2i4iqC4no3z6kBeFPWh2bhq7UNeVzCn51ACOigcOYo8JzEFy3XLcwjpJo2N7EZy3D-mFvRiRNQWBXJJvzHyig5CHMkplerDIfL91Vhi1b60XORE4o-FUrF-HT8jKlc2nZpbHLYKTztJT2nhry20vp3ysv37hw9jRTf8qOI0oLOIOamjrmqr26l6Zs0X9hUDUBUygn4u9qL_l2s8ZcKnMkxzPR4TwxcUug46avBIRLcy04miDThNvTAFCUWwXkhSXQv5w==&p=1&sk=d6034e8acd0d9a21&fvj=0\n",
      "Getting  http://www.indeed.com/pagead/clk?mo=r&ad=-6NYlbfkN0D9Z_NigMRFBqnj4_9rPbMnaYMSgnKsRu0gcL5XJCnD3bILsLwsaf7ngR0XhyawA82EX8jJKEXlCwgty3zmgOjDokMbi8x6HMTQf5iNb8VKdxw5OZDW62RIM_U6-wRG3-3E0xQ3_t-ckprB7aVj9c7z205zc9arq_ygYcJ0OuZcybr1vt_7g5XuJ2ML2qL15R9GLzuRIWN0sBbQAdNGuXkHtkbKpcIuI3F4yz3zvKgAnfqMXoMA0VUy4QQtMyZz8mKExWW9o3QiXAAeDDo6fRsqFXv_mjRWTvCKC9T6s73hneoJeMmoNrPexe59UfRPrEoTQXMjVLFEp4gn3oE4TorBgYXktlhT8zHsr6C5LtXqH7A7ebaOst5D4lfw0ugj6EXecY8WqbmH7sIP8wcOCdk74eAy0vhk9BnHlo0GjnHS8YpW5UwhkXH2QADIKfa8bujpaxISAI_OS9IGiT0VbisoVIH1y_E44OgmD3K4ztFn1dPjkpovDiWhqimsnRF_-4zVm-ohvQ0Nr_isWUsN1y467FURkrXdBjAfUJxwGUVYp5-21to04gf4DFEOUv3-KdGlIh72Sbcnsfml_xAlwrkbAvO6CFBrh8BpqHdsMVYa0HljV700jw2Cgj3gG_DsdnUgUmrwliopj32ogHw6uY5-LuMdw6TrPagVymav8eZr76VI16X7FUxh_FglwjACpdp8Aw02NIoC3WhYkRwldWyeqrzpA2TB-qnLMpNBkPw1xjdVhJfA4KV-FrqMnND_b08AY9RwjBt62vBjjBYW3q_I2IdWIUMdKmSoDsiCb9SfkTi_usmewhXgm6dXP-qRHxtw4rb6aQfXuSgdNw7RSO7tUN64Xd8Zb5YE-9fbG1Vdw8kJH16lBQ_B0B_SxJ-o7dgN9S3bgrhGN6CcjrWUe5Xa7KfunbuouLZihm4rbCaP0VyBzd17fa__QI49lW0dRTZLaEABJp8cXQ==&p=2&sk=d6034e8acd0d9a21&fvj=0\n",
      "Getting  http://www.indeed.com/pagead/clk?mo=r&ad=-6NYlbfkN0Bx6f83D1ZEszYZrSDUIjEzhuKvXA67UqQLjFgVFhCO3sFG56l9740gbqKpGj-uv6lBIWnx3E2InUREwQAvJjPtNOz-Y-cLQbbetH0g6bieoxUnUfS-FY5ZrsMOVxyKydGlETpRZ1OiHYXWljHAavkuf8ro9wjiDVAcDuDNqdodEkfg2aXJaxr-gGEYOg1AviZZbZuq5UihH3CrYOeTGgNOkpVMKeHBx9dxmkFOsPWV_oTZqIpwkF-oEhYRPAzGiC8HjluiynG9ob29tapxRF2x5ONE8z6o9-8_VyfcM5Mm7mkHnn-BprkAq6PEt_Lbx0KUxsC9PyLiSNnMXrkSB4dvS83VzeAXJpjA-XHiSBtqLzxkCzIRmGbsjJOs9fUTLqd-tYp8egpyGdUY8QNPp9L1YYjRWgETClZeXQyXJQfiqcu8mhDVnJwSVEHb4vGZLL28QFsvN_wBCxTcBXjrH-dXvAPjrXdzEa3INVm6iA50Rw==&p=3&sk=d6034e8acd0d9a21&fvj=0\n",
      "Getting  http://www.indeed.com/rc/clk?jk=d67c1d3b02b75205\n",
      "Getting  http://www.indeed.com/rc/clk?jk=6943f51b68739e29\n",
      "Getting  http://www.indeed.com/rc/clk?jk=51a5faafdf57b8a5\n",
      "Getting  http://www.indeed.com/rc/clk?jk=49d5d0db4a74a27f\n",
      "Getting  http://www.indeed.com/rc/clk?jk=79feaabcd0d1caa7\n",
      "Getting  http://www.indeed.com/rc/clk?jk=bd22c3f2853c8dc1\n",
      "Getting  http://www.indeed.com/rc/clk?jk=b64e314bd70b1544\n",
      "Getting  http://www.indeed.com/rc/clk?jk=5090f12bb9311851\n",
      "Getting  http://www.indeed.com/rc/clk?jk=11099cd0ec73b756\n",
      "Getting  http://www.indeed.com/pagead/clk?mo=r&ad=-6NYlbfkN0Bx6f83D1ZEszYZrSDUIjEzhuKvXA67UqQLjFgVFhCO3sFG56l9740g1Sfirq2oBVmyR0zF6v00ijPVC-lMqAhQQ3iSOi_jyxR16SUWXOkwM138ItQK9DgRk9hFhmHr2FbMV33UL5zTF4cItZT9ByIkXxMXnG6-KQLdofp28uNQ1DGUrEwz8l2Z7v3TUK-R4sVGCeLCdcUAibp3qaPHATKLVeS3rcQUbeI-tM7OrbdPoxExrEkElqNS3qfAuE8RzvrMukV7L0vQqsNyTxjvXlpBHg3uVuZHf0yLBkYWdEYbY-oEw3RGbJjLhdZr5by3UmK8FNxv8Wup0ZbhYZ_6ScQUnXqXyUBzb-5mRq_tl1tjN3cBUk00hKoBqFe5ZyxSrXMyjvXeiVaOrk1sCAgZSeWiCa7NbCRC_MZ16ArdwbdjHmQ_UgZq3wVYY-PMzFK3WVk_-uI7IeCSo6gYqRDzI5CeQN3Nzi8ED-t6FSGy1yHV3zpcx-ISW-UhR3DyobxHm4tuwZJ9-rAqPw==&p=4&sk=d6034e8acd0d9a21&fvj=0\n",
      "Getting  http://www.indeed.com/pagead/clk?mo=r&ad=-6NYlbfkN0Bx6f83D1ZEszYZrSDUIjEzhuKvXA67UqQLjFgVFhCO3sFG56l9740gydEEg-g-kEZoLq-a4nMO-3MQk9KPOhOzcP5gwubOJsA18SGy_1PeRr540gmkBl4xpBuIjjMvAZT4d9krdTnyV8DWgR8AnP4ENXwtSfbPJ0OB9WhHLYmavQbG1FvTUHNZJkQVPxzfPlbXmncYbeCpe2KbSYYvBldZgGZUVa-uhCgeBw15fM_W_JVYVEKah2_eIqwPBFWazB_Dle2-YV2Q85_JUueiICdZo-2wmMU0kJTXzDEOFO9TOEA8aYTqnXtufsmj0pvwSG2MvBaLYTpOgXCIqxb10z4UgsftWsFhPjXUind-ekeg9m6wuiAIEtN4kTE341i46L3YCYLkOj7RbWtNYYEPavUVvRe838ud-e3rGqfUntDz9R3MXwY4_NpMxwxkY8XbseA8OrcyQUM5LVJj_RmYSA7q-_l28PokbHuSPbFMvVmu5DoQY23HY8ux_iGe2uemabQ=&p=5&sk=d6034e8acd0d9a21&fvj=0\n",
      "Getting page 7\n",
      "Getting  http://www.indeed.com/rc/clk?jk=f94e1f64d5ed39e1\n",
      "Getting  http://www.indeed.com/rc/clk?jk=5505e59f8e5a32a4\n",
      "Getting  http://www.indeed.com/rc/clk?jk=103ba432b648e8b3\n",
      "Getting  http://www.indeed.com/rc/clk?jk=e5bf4ddd44b65639\n",
      "Getting  http://www.indeed.com/rc/clk?jk=327ea2257589ac0f\n",
      "FAIL\n",
      "Getting  http://www.indeed.com/rc/clk?jk=bf6c95f868a32e56\n",
      "Getting  http://www.indeed.com/rc/clk?jk=93e36ea3cd05e4a9\n",
      "Getting  http://www.indeed.com/rc/clk?jk=fd9e31e729d1e13c\n",
      "Getting  http://www.indeed.com/rc/clk?jk=1f999a907480e9cf\n",
      "FAIL\n",
      "Getting  http://www.indeed.com/rc/clk?jk=cb6fed320f63243a\n",
      "Getting  http://www.indeed.com/pagead/clk?mo=r&ad=-6NYlbfkN0ART8AynpcI8jCysl9u90SKNU76iznY2rBh9lW5YHXHcUDhLToNtJlfGEOsPvVErzUbMexhpWkL-wI4O7XZmaVg1D1gPNaUlK7b3skra12U2k05YXtZpcI8aIryEuPhXInsA4py7Rziwbh9SmH1om37Ub-qeLP0ixVK_FY6tERH6pu7JpeVGu4ti6EVapmn3x_htLVNfoHBJdbFvTpfhhoVBbHr6Vx6gFJGXF_FqY6D8cMTbOWSJmuGbh9O-MBFagOKJ7sVBmnFFOT8ZB_Ct8s8pQgmloaeugoKSMxOCrtEUTtnAwB_fC5-z3rhJsya3-eRxb07tMhYBX4Ey3rcGPC3bUUgTWBqUGGNBu8gsudyd3rEuKG20LB4EAGptj_l8M0ly6j5mUghvoZkKcB51ARlYgT1xGUC_Lw6UZZtyxQt0ko9YmxxL2IGkVjZAcDkQwt_nqubM2y5hmaSP640Jm6foowQ_6DsgAQW3DXCl8IoLUY4WjuiaFSNBZkTd7DS-JxIpSz_C79B9MKuWYZJWKk3bPsdy0r-HkEBztlhsBCmhCDazXHUC2jga0a2vms-Lc4nKkGIbtDEIbiVxJK7W9KcMr7b363ogqHuXjncc16hZsIdi4wPoWKjyoMwJxQwouOKW7q-MOOp9gcM9VtuschK6a0av1kbd0TsWFyWilX5RwBwHeSJlrCKrJt-Cx0POzs91NLRFqnrhMqjdsiI23b_MmelAqZcH4Vx6hf0jl6EDoFBEe1KHobenYtINqosK4uL65oQEFgRa-_aqELdGp13PwXhCYz1qUROR7FzzNRa39GxMwDgJ5A2QY5zY6VjxqrMLF5iCMrVlOVw-Is4AWQd&p=1&sk=d6034e8acd0d9a21&fvj=0\n",
      "Getting page 8\n",
      "Getting  http://www.indeed.com/pagead/clk?mo=r&ad=-6NYlbfkN0CxqcpVj1EFcAZWHx6smIldmHpp1G5t2J748Q_hJLris5SsQUvITOETw-tlfgFb_yFY6EUL_PysnqLOutg0Yro_mZyaU5xj4Jauda552Dboa8uQYAFW8a9pDpbw23phB0OBL6iPZowOJGiEKC_l7mwnW5DjQI210YNGq-OGAB70xYRb-tYlUdpeZw9RZxN76yhMACq3DtbOn6jMW1TGcGcVPWiwSEMtmhZMUxoEWrraR3kRuu2-HR21ghkefYWlHEiclDAfmv_drai-0loBZB1x1uIRuvaWKe0D_tue_MximFGRmvUwlJLPl1xWqHk22Zip5jAFBvWRGQNm7ABYtgOnzBRRDX4i-wiM3RUB3fbJlDs6t2fkvWPMZQPbh02CSJtkeABvGdFNcJj-QCYOtA1i6U46Tro-ma-gqi8ghSDlt8YIKQMj1UQbLgX6Ye6vZOpxYPIp4eApwb2cw8DrGm6neJATWlfrTiMUqQe1Lu41pxpyKQcN6G_72ep9lTHkDGTGfgjnqGaXLg==&p=1&sk=d6034e8acd0d9a21&fvj=0\n",
      "Getting  http://www.indeed.com/pagead/clk?mo=r&ad=-6NYlbfkN0BpR2z_SrePQnnSGxq1vcY-YI-c_LoU9DEIPQwLT0OMXOiE3jeyPVw0VK84fmuVfsamJKT1MemVRObYHqFsEPj2N7hgsrQvnunDGefpsmKi14vyz3usiar3yoXJQccQZGTq5MshmiQs210U6zJAg5W3S5_3Vk1cehjwq9lX_0GFj5AMJNrDDar2ECUYRibyaxDdUjey3tHfgnpMRpsWjiMlbKy9A9GBeNhC7m5fTmBxevJW_eyGQOjqp4rLyWdDIbkirmpJpQ3Vr4Vp6Q_8RE6jgmromy4VYl2bk9YfK92J4KDlDXMGzpz9PM5sBExKlLCnGksz6p1nyXG9vBV5CDjXnzVqsy3OjoSyHFO4TR8MEGCobyNv4_u4SwChP32UaaA3TyHDq9NILfynLrKbRMzTdvaJIKxFnxLApBufndTUvtnsZw_M_jHZmdti8WS5fnDf9JAcUxSN8pxHxbQeF3JDhlc5U53lK22qU_2mwCIG5s8dvNQTyeWN3VCZFDpin4DN3TzkRRamzmOWagDTIQEMC4umpTqaJhzflHBUe4O3QZhBf8T8KEo4&p=2&sk=d6034e8acd0d9a21&fvj=0\n",
      "FAIL\n",
      "Getting  http://www.indeed.com/pagead/clk?mo=r&ad=-6NYlbfkN0CZTNjLMuBQEc4UwMDLf68nYWD4vZp_o6pW13OpR78fsbfB0BqE3Z5GoN5ZSiWdJiiaIC61-WXZ9UZ5YJOFSxev9wO64VmkCTtQlO80o9tixxvmqbIV7jBbpcyk_lPulubSVKJDkQS_ZybL_D469gGeUhOrEr17_rsiD0vzhwh_XsVcjkxTkwNDb-oyN1HAy-AdjxM1uRl9FSPgYnw8TTtsnE22hfPw4S7da47t7-EWzxbMw2IiV-zIlqMUC0gaZTsrjrUswDYpNy1jaVw4LsE2JSZQ5YIFWBrg2lKohFWeop1yAu2yyha1xvpDiceRywuLqzYc3arJ69dBDtVNGi0pi_yqgYYK2ecoNXlT60-gCowpe5awBCkOIjnkWGQuSOnfJQp6ySUZ-9ODs0lqlUQzDak7TlDKmhD9oUEiUrP_OrOQrI2xZ2hYaWFhKPs7mbqNZ75bJVY8OFuC2OGbOuTVc0KoBw5d7-6xWPWqAcSwrwtAUYpmTNKfYuonCOpNJTegynjFM7NWz1NsGSg3oLHL-uxzM9wS5CTK7EJpoRSfjJQQUCVkRdts&p=3&sk=d6034e8acd0d9a21&fvj=0\n",
      "Getting  http://www.indeed.com/rc/clk?jk=d89fa2c45439da94\n",
      "Getting  http://www.indeed.com/rc/clk?jk=e1e04a34238d055e\n",
      "Getting  http://www.indeed.com/rc/clk?jk=12e64625b569db48\n",
      "Getting  http://www.indeed.com/rc/clk?jk=480f12e135f4c516\n",
      "Getting  http://www.indeed.com/rc/clk?jk=235e2c953f1b3f29\n",
      "Getting  http://www.indeed.com/rc/clk?jk=643adf01ed69acec\n",
      "Getting  http://www.indeed.com/rc/clk?jk=a7400b68fd13d2a8\n",
      "Getting  http://www.indeed.com/rc/clk?jk=9fb3f05100c8348d\n",
      "Getting  http://www.indeed.com/rc/clk?jk=d4bb5139afb1e9a5\n",
      "Getting  http://www.indeed.com/rc/clk?jk=d9cb3607a8548d8e\n",
      "Getting  http://www.indeed.com/pagead/clk?mo=r&ad=-6NYlbfkN0AIjC5qKkbE_crsnKF-CsewJ3GikD0txxzOnEPDe-1oyRzPR4B-y7J7rKR_k6G65oB39POnDq0eTlSweJZ9YiYpgcIToysKnLe4WOzbn_RUiVL_p2QKEWSEZ1Y1h0af3un2cyoMDGLGczzv9oedpimj8ld4pUwEOrcBGRHK9Yt9f_VWpJzdOrvn7BxnYzv-d_BfR_9SQJdzgJ3Fn7LzxX93qpJ5qYO9lIy8E9i6f9PxYZKr4n-U3J5yf_y35BaDR2csVPTWIIC0swi_cnv-9hpk7MlBZFRosM1Zp9spVAILBBXCkY4fy69sMUWonPQqJz3SHi-uXEltRZGXM-skcHDJMI6YzO9xnSnuCAWw9KmLfvO-khnNxpFytxYvSXzOvefeMmEm3AqwX8tKG_258KL0szYJ4l9BGGNG2fd3Kfve5gYpaPn8gT3Pg-fzA4GdWTplcw5_ufszkb6xlztCrPg8yj436TOooqKZuwya9YW-Wg==&p=4&sk=d6034e8acd0d9a21&fvj=0\n",
      "Getting  http://www.indeed.com/pagead/clk?mo=r&ad=-6NYlbfkN0BIkQ0OMzm-5ZPqUVknXbFZ14C4zJHqqX8MS0NHs_4_OvqBXBThYkwExffY7Lo10YpgJzvrHnd1fgwMc0ZbrkCogFmQ9OBdNRxGAykdJfOxOPlo8Rkwb5PhrZZ39hYpj0jrNHW3wOynCw5GDIs26-kR12_NKc59juWwbRUDzLzUZ5xqHlf6jAY3k4eJtUrLaDeBeTxWIr6uxMRLV94fGQXnWh7ZlQIa0rmFRoFZbD3pwKA1trwB0WTxfLx0K0pGC1UL5lHYSVnVwygldLngxMN_lPy6m9jqpn7efQ_5Stc40DicTGHpws_xIjVBIrYaRvqz8h789pVeeBc5FJqF21XhN_hJpKYQctR5HRBbf0XIbVqlZji9ZI4oCNW0DktNBiOnkBc74cePkJpg8LQCvjum5yoMUeHFFpP8Mp4jsVjRig==&p=5&sk=d6034e8acd0d9a21&fvj=0\n",
      "Getting page 9\n",
      "Getting  http://www.indeed.com/pagead/clk?mo=r&ad=-6NYlbfkN0Bx6f83D1ZEszYZrSDUIjEzhuKvXA67UqQLjFgVFhCO3sFG56l9740g4TUu8d9LjOtgGIvFXZKlm2KUT9oBmPrJKUMT3CYsrj9NeJPoGVKWTA54vfFsCy4YsxaqZBpFCKGUou9zzCq1T4kjhrUSU_3tQqxxz36BbgrMJYqdq3uTkuIwmMK_YublS0Wd3EHKOukAmOWIgDKzqWi5baRtkWxHIQPQipQNJJJhTjCoi4cENrE43hwoB-gTveWr0SrvHVmbTl7rCLP-dr1prMV8TvaldoWH8MH-J6w1QvjrvEshQ42fRAZ8SXU42GtQcAkZhqCJLGfN4YnQ9eKxi0Fxrebsg3AULz8670QhPGwfR-WbAnCnoElJOvXCRpjYfidsJGaIJf6yD0jjpOTRx6TYt88sbM3MGEBjRlNRP1qRYfXAWOnBjce0LL-9mQ2OreRK0RbKhiHz6t4r5rEPQoU7DN0enKo3iCmQfOr5d22RmoYd9w==&p=1&sk=d6034e8acd0d9a21&fvj=0\n",
      "Getting  http://www.indeed.com/pagead/clk?mo=r&ad=-6NYlbfkN0AmrGAcUObcwAjPaeUiGTovJrD0KzlVENlQnoZzJA5kiJYOFhc2h5DIDKSoGOP6IFW9-nt5PAm54jThbJPtOGhEj6sTSh0gVydzxcTEvE5gCAyMn-k_x9bAQSKAZiEzAqIeGTbd1rK15OOUWCBq5KrnxnlfKOWvktr_-VfvdWzqvK-PTNUBuQhWnqZYAeEskue9lCeFXQWBDK-4gecgsXWMDhBt3XUlqVhzX_C1EF-tPZoFxDxg1IAGnrs8eh_jXFCpMXsJXy89q0755zZInNzdJY9pGBKDR4FM4_BjKhnm1FfFlieeWYKXcG2llhuJTNrwruawNUjSPvgDChfX5Y1EqtBCBA_D9ZicIHC5--_BgZX9fbbl7IjsXXhMRb74GkufKQh5ZBknJJoq7h8shxf6&p=2&sk=d6034e8acd0d9a21&fvj=0\n",
      "Getting  http://www.indeed.com/rc/clk?jk=76692399a5193bc2\n",
      "Getting  http://www.indeed.com/rc/clk?jk=d9cb3607a8548d8e\n",
      "Getting  http://www.indeed.com/rc/clk?jk=f3f2830401768b62\n",
      "Getting  http://www.indeed.com/rc/clk?jk=e9417aa8732b9bb1\n",
      "Getting  http://www.indeed.com/pagead/clk?mo=r&ad=-6NYlbfkN0Bx6f83D1ZEszYZrSDUIjEzhuKvXA67UqQLjFgVFhCO3sFG56l9740g1Sfirq2oBVmyR0zF6v00ijPVC-lMqAhQQ3iSOi_jyxR16SUWXOkwM138ItQK9DgRk9hFhmHr2FbzsBHiJCcPSZHrpk-3hzE_x0cu20RygX7sZd5PsVqETIM0rmUio71fX9lydDm4vXtfcqZWVWDZ9ffs3Zf7s8GCoc17Ong9nTgQptX1l3OE4QmCC51a6NOcdK0wquc0xbdpj9HntfIkE4_HkmyqC-QijwwQu2XvFmzk1_Lp0e1BmfdkhMIadfrRgGFNhDjbid7vbBl0mxDN3Cw12XFsKk0K1RFUfV5fTGrG6zsegQA7XcXGLgsoTJN3SZ6ocdX0i4vcmq10UKjE3fPW9rxwOM3KASIG37fGBpF5lvlkoCKbnM9sGckiOLbk1PCSMJQBksnQQ_EWEFlmkzQzBPo98ij0W9LIkEgGYX3sQwFKHDKcMj9HVlosLeDtjdA0g7G3orsO44gswZXJrg==&p=3&sk=d6034e8acd0d9a21&fvj=0\n",
      "Getting  http://www.indeed.com/pagead/clk?mo=r&ad=-6NYlbfkN0AmrGAcUObcwAjPaeUiGTovJrD0KzlVENlQnoZzJA5kiJYOFhc2h5DIDKSoGOP6IFUYbvkw0jbGZctA2lQBqzfuPMagR4lWPGaEsvV2eIlVspeDP7Lnq5Mi5-ynhOHoST1jEHR8yxhQ8XHtW4deC89eya3kQwNQMS4KaqnYimGNjwur8Vik07JbfJ1zWRQBmdKcjR48kviisPReg5CckejU4djtxpgiPb6nqXRSEmdqVSNW_6hQgI5ZspJZLoRn_V6OtFIrDypUOMXmRbX1VsE13PFFeXs_DSPYOUuN5gmji5we1HuojYJNHpjYCgjtpP3yPxWWpO6N8x6KnDth4MA83WaB8KW94anF_b7srOCx9lHq3JH637_tJ4DZ0opFy9NrA7TaHHSJr5nqkyIXt4dt&p=4&sk=d6034e8acd0d9a21&fvj=0\n",
      "Getting  http://www.indeed.com/pagead/clk?mo=r&ad=-6NYlbfkN0Bx6f83D1ZEszYZrSDUIjEzhuKvXA67UqQLjFgVFhCO3sFG56l9740gCqx6NIboL5ny8Q5eAw1WPajgfk7_egnsz6trrJXcjiZCBFHiRry9K6W6exSusln1ngersPR_KGtMynmoQoPrWzrGNyfuC4oJcXU_mx9i6SHdCwsNxoe-i3Bu0l2SsKURTB6-zMN8ciKY4Qlp8x8oB0SWHRj640dQr2UyY7qr_XKdND8M0XjZvqRUzYNR3-i9214JFyxuaaTTsVeHph7hfdPfKTaacgcm1oR7r2OWGtQsOvO4fh_kFUL07XQUWQmczICwOxUv6XILHzrtdqcdXf9obuJMj9d3mRHYAnMh0a2qGF295-cRBIhTg_LGuHfYz3lp5vrULq4vweTLe9u2UPrvd1D2OPciBQjgpAIz8V_0wfFbpcrxcnTRfm4WnyY96JR-PBFU5wkB2oCm4cqZurBatpG25RJdjJOzzD3YWmRm8ck53CzILg==&p=5&sk=d6034e8acd0d9a21&fvj=0\n",
      "Getting page 10\n",
      "Getting  http://www.indeed.com/pagead/clk?mo=r&ad=-6NYlbfkN0Bx6f83D1ZEszYZrSDUIjEzhuKvXA67UqQLjFgVFhCO3sFG56l9740g4TUu8d9LjOtgGIvFXZKlm2KUT9oBmPrJKUMT3CYsrj9NeJPoGVKWTA54vfFsCy4YsxaqZBpFCKGhjRpc0nGwpyZLoVZu3OvFgMrBu5XUHoIjDIPhcXcuaa5Fgg2ORWOdvhAXxgC_WGSrQJaUMWoW3QPrKWw1LQLY3IBsCH2eeXlZnYz76YAqkEx2OICMui6rNXCaaSdGEkAb0MybwLmkbwSji9SxpBo6RmTX5jfop27M_zpfbqIR9PE-RKb3sQLE4LatPyToBR1_ivGYXKuQwkBmx9Popb28dAfRO7x7Vt6FQHRqXFRPp2lKkQxsgszQ9MePh0IZDkqmnKgE77hVS9DI13goN9gTj7nIsO07hKqrdhV1nMn4HP80B3-6Y45HW8zWlgEYbYQP9tyEQaIzmfIW42X53HtmBVxnr-yT3QnGXZDfNEws-g==&p=1&sk=d6034e8acd0d9a21&fvj=0\n",
      "Getting  http://www.indeed.com/pagead/clk?mo=r&ad=-6NYlbfkN0AmrGAcUObcwAjPaeUiGTovJrD0KzlVENlQnoZzJA5kiJYOFhc2h5DIDKSoGOP6IFW9-nt5PAm54jThbJPtOGhEj6sTSh0gVydzxcTEvE5gCAyMn-k_x9bAQSKAZiEzAqIeGTbd1rK15LfSJ8ju2ucaPPJicv_BT89po3cyJV-Nu1UEyTdMOPSHA8TaTkzQ9yrRyuCrvbJK3cGNvKhOL2w-kbZsq5IrtpDE9BXUASABzPd6mbyo0GerFZvgLU--H3YkvnQ0GsgePpfShG0PU5nUMuKf_4-DA85yXUrnYoW3rgI4vSRjkRExNBjR7rlG1mV-and68PUya1rvFmOD4kFDn_kZcpdUdvHOUKDaozqYHpovO8lSgoiZcQI5z47lXXgn92rOhaheOMDQbHyccxRk&p=2&sk=d6034e8acd0d9a21&fvj=0\n",
      "Getting  http://www.indeed.com/rc/clk?jk=1251776898b8e1a8\n",
      "Getting  http://www.indeed.com/rc/clk?jk=76692399a5193bc2\n",
      "Getting  http://www.indeed.com/rc/clk?jk=f3f2830401768b62\n",
      "Getting  http://www.indeed.com/rc/clk?jk=e9417aa8732b9bb1\n",
      "Getting  http://www.indeed.com/pagead/clk?mo=r&ad=-6NYlbfkN0Bx6f83D1ZEszYZrSDUIjEzhuKvXA67UqQLjFgVFhCO3sFG56l9740g1Sfirq2oBVmyR0zF6v00ijPVC-lMqAhQQ3iSOi_jyxR16SUWXOkwM138ItQK9DgRk9hFhmHr2Fb_-sJj_ziSbSJDUf4S7ZPiFrotXrJE4aXVvP7TQaDfemTELIsL3PNXNkqbYp7VupwjkHouxkbiT-hoquLmyO69ST9TCwmfb3rqdXPMA_9v9RoxOhmGwZgMuJzlyo_nESx5QIqQe2LfLs7H2fMQFA2-7TWYtsTPwN8DOnV531JtjwRqf8ZlO_0StO24slraaT0cYBOt1642jDhTWMb-PtuPl14B9lgTUlirsJ1sDjE6sogyjlOhTX92Qz_0Rbgu9WMfVXwh-ey7kVbC7qOxSMgeBO1BbcDF3MFc0fSGspZRJMN2WA6t7UrhY_CKufVGn-ojX6msFdSizW_h0ix8_hUw6L7PVMvrZgZWnCdc799Yi7nGOWGTB3ilBPEHQTBvb9he-9fK50fXnw==&p=3&sk=d6034e8acd0d9a21&fvj=0\n",
      "Getting  http://www.indeed.com/pagead/clk?mo=r&ad=-6NYlbfkN0AmrGAcUObcwAjPaeUiGTovJrD0KzlVENlQnoZzJA5kiJYOFhc2h5DIDKSoGOP6IFUYbvkw0jbGZctA2lQBqzfuPMagR4lWPGaEsvV2eIlVspeDP7Lnq5Mi5-ynhOHoST1jEHR8yxhQ8f9SrMLiYrxUUJQixX5bEUZz7TzIifx--VDNh6L2PytrrZDDfLjPEi8aI_KQQYI9Zf-9DCkQRIw9PxVna3nGGDGSRebiodfenkkw0H0IUUFrXIgOztA7Yv_6YXajhRHl7f8ajtQ-0YxAC180j3Rfy2CYNUUzvW2CHAfwNuJ3WG2FBk11zsuUaMCOzjNr-w1peI9Ju6k3WfPxdOMvznQXLY20yRIsXs-cL6ngQQRP7JlVATE1JPJ_ezGwRNjfhLfI8KkyQrD2AxWB&p=4&sk=d6034e8acd0d9a21&fvj=0\n",
      "Getting  http://www.indeed.com/pagead/clk?mo=r&ad=-6NYlbfkN0Bx6f83D1ZEszYZrSDUIjEzhuKvXA67UqQLjFgVFhCO3sFG56l9740gCqx6NIboL5ny8Q5eAw1WPajgfk7_egnsz6trrJXcjiZCBFHiRry9K6W6exSusln1ngersPR_KGu_uTJB7PSf5C_au5euW5M-_cMcFPFAniWnIJNICnp1oHI4A-zA7vIIwgY3SCmJ-YuormVd30U6fgInAZJmwA3WkZ9wtllzX7RUe308YqJ9YAW9jUORPNz40-PIfYfrS4g6g3XXoATF4nDfD8T66OXEQikScD-W6aiUYblQKLvx8fL7WWP1339VlqeC_f7iWrhN-F6Awcrf7O6ylRKWC2G4SwEs-sIfcrflgEp8uciPlJOEAYdLKZ2LhIUATqtPUpFC7egk9hYoNz8xc-X3er-go_eL5xeImwrsNWV8tX0HvzZPbzikQF2tWehfHwObeCrLyHFrcZxE8m-9NUtA8zhJWjLtJGkLYlf9krs0Jjgo8g==&p=5&sk=d6034e8acd0d9a21&fvj=0\n",
      "Getting page 11\n",
      "Getting  http://www.indeed.com/pagead/clk?mo=r&ad=-6NYlbfkN0BpR2z_SrePQnnSGxq1vcY-YI-c_LoU9DEIPQwLT0OMXOiE3jeyPVw0RCFHKvFMJmWEjbKOHlnvUIcQ2amxEELDA359EmpGh6IOyO0shjVLVaBFA2hzkT1nY3pp9fV1yPUwagVVDdGRlZ4n5v97IghPUvRMvdU2JqXCsbX9W5fqdsb92UxeVjhDdF2EkeqZpZPfoIoLJtcXwSpG_5auToV2hfDdzxU9WgulsbNFFixSh-HY1_WvNenLCibP5Kz8VFjxfOgCXG3LxK13dyQJkEmWKg0Zr1gobDE-USNxGYN5Z-vSFNQ8jewTJ4EGstHWHUf0CRTwAi5QPZvyCRda_b5bD7DpSRr4kDsnH0z80wewRSL_LyhOcK5BIU_XQDhxkv76EC2Uv7uob08zi3dTKCeN4tSbK3dKKoE8NSlRhFwk2Ai3LDjOKJbIvVqiXKX8Hms_FjX_-mrwVTqjkLtuSI1xDlooukURlTcQY9vUMFlUXbB34FG_tHMjTahedU0xlCtDKxCanuOxm6aAs2eaYpKDGHPmyUqQiVxPq5jVXqPRmmewI6RME9p-&p=1&sk=d6034e8acd0d9a21&fvj=0\n",
      "FAIL\n",
      "Getting  http://www.indeed.com/pagead/clk?mo=r&ad=-6NYlbfkN0Bx6f83D1ZEszYZrSDUIjEzhuKvXA67UqQLjFgVFhCO3sFG56l9740gINiMfaLZmgcuGrzDG6UkfifbrepD2-TqhJ3uIx8-kxQ_3eQbINJxcZRjWqJl2hRDweuQtL051WfikAbsFt3L36TyhvfZF7yF_IBipc2sy6b0JTq2SkmhksImXER_kmUo8fzknewm_-ULYtnhJWnpI8Ej-9vhiH8DEUJBXuTPYiinmEqD2eA5_mgTMyfWUn-F0pAjIPwcgLaF7zBdq8le67IrE7XtexHdN4M5UrzbaVkReF36AAuH7YoSlazIgnW0yKeHzfNNzngF7Kkwya7qAY7HV_7fTbPuP2mcGB9Ix0LJRuV_W6PqZNY6Fd31GgLNE9jOehjmR7kyEwz7M_1VhdW8F6m1lHJ0v-U1E1E9YlzzwqiplMSkHAYcwLD-DHw2VSGg6zf4aesUQcR9BivIzwptjRgVjEDlfdHm7-FuKPLfbyfDxkOGCOhkjJPFdDMS&p=2&sk=d6034e8acd0d9a21&fvj=0\n",
      "Getting  http://www.indeed.com/rc/clk?jk=76692399a5193bc2\n",
      "Getting  http://www.indeed.com/rc/clk?jk=d9cb3607a8548d8e\n",
      "Getting  http://www.indeed.com/rc/clk?jk=f3f2830401768b62\n",
      "Getting  http://www.indeed.com/rc/clk?jk=e9417aa8732b9bb1\n",
      "Getting  http://www.indeed.com/pagead/clk?mo=r&ad=-6NYlbfkN0Bx6f83D1ZEszYZrSDUIjEzhuKvXA67UqQLjFgVFhCO3sFG56l9740gCqx6NIboL5ny8Q5eAw1WPajgfk7_egnsz6trrJXcjiZCBFHiRry9K6W6exSusln1ngersPR_KGuJkwmhNy2wjVrbNKWkES3-pNNYPHp_oaeRTreJ9kfzaD6yP7xDWRmIb3Y6Z2jAlj2x5pdKLeMDPmgw34otVB7fvg-ujScliirf0H1Y2AtPx_kTVuTNwfxGeDvH1wO2K12wqzfeyTsACZ4vHLj9c-DDLWDvx0FETwLDRSoh8Ak7VMb5DVC7BgJc-gWpdDJSUBut9nsCSwXEIxRXZ-UVl1YkIlJUGjqfjjnVExLllHlY0yXusOHwJK-a_OyFuPFBX839bpthcHK0neAezeplBRAYvwFk95MP0BRjVW7nD7zm8t6d0s1hiEHfOGGAxTvciwm2MSjIfgYwqcRMYuhsnW_Mm9N8D5l8y7WGgBuek65Zrg==&p=3&sk=d6034e8acd0d9a21&fvj=0\n",
      "Getting  http://www.indeed.com/pagead/clk?mo=r&ad=-6NYlbfkN0Bx6f83D1ZEszYZrSDUIjEzhuKvXA67UqQLjFgVFhCO3sFG56l9740gfItWMs3JJeVcbhs5ZrmrQ3UDRlNQzhGq4S7sWWxrhZYKo4aPaimop4xw9_58MPFQPNXxGKi1JAyZaFwZpDTGxz_5LaL88zS-vTmhTo2KY0Qn09-_925lLW8n1u1VJGz9WnYkEseyXKcX5weQvgExoCjwUm95on-E1ZgqQ-mpqBdKWFrS3PQLFQiXAVopabW3Qo5aAvm4iDQRsH4_S0YtG43jIQ6Mm0UaeSy4_C0EC2B6mLhUK98P48Mx97fFEowaCC_AcFSwMWaYT5_yxr90ElgUQqdOBhxk4lyTrTQoYvw16bWr4W-r2wpa8MIqStxxMwjRoGuO0IM21xzn7MrpoC7b7Votc3Xn-bNTFfEVyhbDpzRUGIWa4up6x6x2IuItOQPDEYRfelwIT5bY8KBy67xTI2pyY8IRfrw8Wjmbb4HrQUrwOOOOYRGF3nnQ8X7-&p=4&sk=d6034e8acd0d9a21&fvj=0\n",
      "Getting  http://www.indeed.com/pagead/clk?mo=r&ad=-6NYlbfkN0Bx6f83D1ZEszYZrSDUIjEzhuKvXA67UqQLjFgVFhCO3sFG56l9740giME8wfh1xGWzwVG7DTqIQex3pgUl2M23r0f_ZBXdmlq7tfe2gTE0Z5yhT6y1JQW3NhMIPlYMdazSC8OQWC2ffs8yu-W9L-PsW6dSd0Awcmd_9mrbEyI91UR85ZXLD6VixMz3CFwV06apOYMXDy2T-6ajNy4iIkJ47vG78U6avR4r8iS9STPNhvZyK3FFx_sE81yc3FvTFPcGBsG-WlJ7EnBuc9oMRdfWv-xDLXkBj_7MZ5k_nrtmCta2c9htn1GnoOUB8AS25-8e-SkQG6c-fprOvRzXNu9MxPii55TTPYIeeEzTMjf2xnTOcYaGp1A_i2FFKBPDhSenOfQ9VM2wOrQ5AIkQtnR5siBC-KlhCJo9kCwkYKX7q6ORMVC1UAzAQRSbsHzUzBo0fiPWJQoXhfQ9MLMsUtopZb8yCeSkqIndvxdqybrgNlOhjeVkcBvC&p=5&sk=d6034e8acd0d9a21&fvj=0\n",
      "Getting page 12\n",
      "Getting  http://www.indeed.com/pagead/clk?mo=r&ad=-6NYlbfkN0Bx6f83D1ZEszYZrSDUIjEzhuKvXA67UqQLjFgVFhCO3sFG56l9740gCqx6NIboL5ny8Q5eAw1WPajgfk7_egnsz6trrJXcjiZCBFHiRry9K6W6exSusln1ngersPR_KGsw7GVaZRWr_7veXuvvJs6gtYQm4tn9ys5mVEb6g766P279s1lVcDYnwX_CgYuTQvPIua7RszM2s7ipLKYqj_xNXuhLfH4PZTN3uyusVlzqNofQ64srOLLhQl0iYtkss8EG_LkZ-3T__BQstLsT3jK4iyjDQE6yhIgKN-khqYOuJN-oPy5KxG86loyGpZp9uEm97gxPqHVBP0sa8tuw2w6H_D4jlzMqmCz3r3g-kNJdxZYMiXWRMxnlbFLXiYH306Th3pVtjfqKtS-y3_VLjawiId83tbQd55PE8FmmmeXEuCRTgdM4RKLVWoG9cqYS_bbjZfnBxn5E9eTdaJJJbGzu3oWNEyieFSvaxaGQEXEVSQ==&p=1&sk=d6034e8acd0d9a21&fvj=0\n",
      "Getting  http://www.indeed.com/rc/clk?jk=76692399a5193bc2\n",
      "Getting  http://www.indeed.com/rc/clk?jk=d9cb3607a8548d8e\n",
      "Getting  http://www.indeed.com/rc/clk?jk=f3f2830401768b62\n",
      "Getting  http://www.indeed.com/rc/clk?jk=e9417aa8732b9bb1\n",
      "Getting  http://www.indeed.com/pagead/clk?mo=r&ad=-6NYlbfkN0Bx6f83D1ZEszYZrSDUIjEzhuKvXA67UqQLjFgVFhCO3sFG56l9740gfItWMs3JJeVcbhs5ZrmrQ3UDRlNQzhGq4S7sWWxrhZYKo4aPaimop4xw9_58MPFQPNXxGKi1JAx57LENH-uWo3vxZQUii8E43OeQVNRjOu-L7jUpFT277xmmf23inX4EXDuOcL4XwLdqy3mUH6rsbhdW3T-MdEHsMqvIaSrbvPluRf9g61ij1bUTttw1-5f00jCR3YWtuGvkaMVBsUIycZFU08_pIgw1yLG_1ctOIrwM0q2BWilEgfaJzBBMWmeGUD5dccvnOAoD1FVwAmvv-x36MwDU--0k3vi_mQyAi1gnTY_yVswyZdxAmlti8coI2szDJGnkBlTB0n_W8l1cIgfy1EqvxH1xdXfW22b3kv8rvorJMDIJ0nQqaSI9n718mLs_md0FIjNXBfAYqZ5bpZ4GD874fBpVFPkV_V6FLw5P59xyQbGainmTIijbd1JF&p=2&sk=d6034e8acd0d9a21&fvj=0\n",
      "Getting  http://www.indeed.com/pagead/clk?mo=r&ad=-6NYlbfkN0Bx6f83D1ZEszYZrSDUIjEzhuKvXA67UqQLjFgVFhCO3sFG56l9740gINiMfaLZmgcuGrzDG6UkfifbrepD2-TqhJ3uIx8-kxQ_3eQbINJxcZRjWqJl2hRDweuQtL051Wci7mNkvpZ2FFbEpKo3TWht8G1aQPHENtHxCTMH2YHm3nORtHXzT7OFr_p9SDNnrjJPeM9ntBc0YXbIzu9DZH38CBvSRN2MIyE8yxz4MvpD1RYF9_ZfqmtrR1CI5TvHYJy0WyEZPkxFCIc1g-D1keY9rbvqil5rAcYX8Z2prYzcedNK3u_YlHRTIJazrs6U9VzDeaZP16i-m3MMwQF0ZT97c-EDAM1CK_4PVXcIDIko9kR4fq-eLPahd7WpXnPEpahUEwxBW7M1YPZkxkSeXIvdvumWS_--T4uaN05PqhaE4VHljuqBKiPue71UVloeF99PeXjIr56rwSYcCRpeEZ5QgRXGyC0fTmV64_KYDbNbj2jwUp_p2YAY&p=3&sk=d6034e8acd0d9a21&fvj=0\n",
      "Getting  http://www.indeed.com/pagead/clk?mo=r&ad=-6NYlbfkN0Bx6f83D1ZEszYZrSDUIjEzhuKvXA67UqQLjFgVFhCO3sFG56l9740giME8wfh1xGWzwVG7DTqIQex3pgUl2M23r0f_ZBXdmlq7tfe2gTE0Z5yhT6y1JQW3NhMIPlYMdaxbfwT7hbMKExC3PZ4qd0BNrwPYKB6AetpxDlLg7A1wv1oEL9qCdxBiWQrP4OLzpYnMrriNWJt4Yzw1-EMzCkuXk8eL_Qg8S9BW_a00MS1FC9MV1GTo81oKZD1Jo0fgkzhK9i_4Ta8IPrUbwTsz559BkJTeNl3Ip2y8K5VYVzRxZC1wHukWgZyqIwNhb8GWj5twxP8vxymjy3ICFALD9y-cHYk_2AXvi5FDCEICe_C_KWBzb5tT8MGBCoGUKTVFZ0W1OIH8Vfk7isE5AIT1_AJmTkS_rwXRcnwz-S7YOK2wVD9hi98Yjou015TKvUV6UPVwaegqflvCMksIQ0-9aX27fGiskNGxK6KshoTsxe8e-qZBaruA95Rm&p=4&sk=d6034e8acd0d9a21&fvj=0\n",
      "Getting page 13\n",
      "Getting  http://www.indeed.com/pagead/clk?mo=r&ad=-6NYlbfkN0Bx6f83D1ZEszYZrSDUIjEzhuKvXA67UqQLjFgVFhCO3sFG56l9740g4TUu8d9LjOtgGIvFXZKlm2KUT9oBmPrJKUMT3CYsrj9NeJPoGVKWTA54vfFsCy4YsxaqZBpFCKGBo5V5VvJ6GhXW2LZEOZSrmFxv_6pLQRnP-OSUdxAZyHlrijBYQvFXMBwZIS-FI-dw8hYZ7K53YnScZ0IhjQgS3uzJBUag8Dn38APqOzmVJwh9GSdRAqoHmK0K-9GJQ5QeSSP0znLkPh4ZMhbddpbuDke8k5DsGJMIxpoCQefFQ0QvCbt7HeD4uU9YQT7qoPwtdZjmzJNnLUhSX_X0YWco0CsfqQ4rB7YySpXODCM7SZepgYX3IHyLgRrCsKXdT9OX6vxJbfAS-GANhmySArw0jSQpa2KNsd-CbMJFtwAGJaKRqGtTKYYEMTtJeKvi-1JnPchpjp2REIx2u7EW1bCiD5Zz6ShBp31lbRxgCzAqgA==&p=1&sk=d6034e8acd0d9a21&fvj=0\n",
      "Getting  http://www.indeed.com/pagead/clk?mo=r&ad=-6NYlbfkN0AmrGAcUObcwAjPaeUiGTovJrD0KzlVENlQnoZzJA5kiJYOFhc2h5DIDKSoGOP6IFW9-nt5PAm54jThbJPtOGhEj6sTSh0gVydzxcTEvE5gCAyMn-k_x9bAQSKAZiEzAqIeGTbd1rK15NToIwCo1ny35gRkylTTALfO3pMJQDmcMHbKjz9I8mIpMgjMxqS639Wgc-OVCZDBEUzwv5wVuaGxhhmW9Wg_fJSKZ77LjytfG0rKk-YItKJE5_zGN9HWh3MFsrofAVR3Ge7mUd2-Q3U7iIF5uIxQ5KX_mfG830NIpkPQt0T_lmvdc9WnPTIHz0JFGLKNs3d4ab43LEG12ImLuzJXOBRgDkvSBpkGrCToma3FR8nrtvuNMLnJaTuZDIGC5rOOh8eL_SqAg4tvkb-9&p=2&sk=d6034e8acd0d9a21&fvj=0\n",
      "Getting  http://www.indeed.com/rc/clk?jk=76692399a5193bc2\n",
      "Getting  http://www.indeed.com/rc/clk?jk=d9cb3607a8548d8e\n",
      "Getting  http://www.indeed.com/rc/clk?jk=f3f2830401768b62\n",
      "Getting  http://www.indeed.com/rc/clk?jk=e9417aa8732b9bb1\n",
      "Getting  http://www.indeed.com/pagead/clk?mo=r&ad=-6NYlbfkN0Bx6f83D1ZEszYZrSDUIjEzhuKvXA67UqQLjFgVFhCO3sFG56l9740g1Sfirq2oBVmyR0zF6v00ijPVC-lMqAhQQ3iSOi_jyxR16SUWXOkwM138ItQK9DgRk9hFhmHr2FbeowyUxBRHQ7enmXQ0itgPaW9a-4MozhfuTfB75H9GlmgfAAOHQ0JFFSGemNhzwTqEm-j0XWW4VN4HSgMkvUPmg9Hr4gNb1hsohL_ROPGqJfFse5r5C1UQ6xO_PX8ZjeVIsLe1YDS_xYmb03xCQJPJztSzHTbuvAeDv5vZ8Uw9E5Vyt4WnM0ylO2d6WlEzzXkn3aWw8HQJ5shz7k9aWPq5WpQebWnqqVkMy_yTF2a0nrMEfFKhAbXqyTtCrdAueabUN1hEcMBnEqQrOF_wG6UKDAc0-SpkCQMME6tXHGcwYfW4WhBwRSvq3n5D_8ChGgYOS6KVID_cXIigy_ZW-p2g_jb9zy8kR5RbvkpSroWPOJEwPN-c_eQxB74YUeTFIY36iLQgMdKykQ==&p=3&sk=d6034e8acd0d9a21&fvj=0\n",
      "Getting  http://www.indeed.com/pagead/clk?mo=r&ad=-6NYlbfkN0AmrGAcUObcwAjPaeUiGTovJrD0KzlVENlQnoZzJA5kiJYOFhc2h5DIDKSoGOP6IFUYbvkw0jbGZctA2lQBqzfuPMagR4lWPGaEsvV2eIlVspeDP7Lnq5Mi5-ynhOHoST1jEHR8yxhQ8QuN-djDiwrnxk5nxqJHkBMwFGYAktmudNpOOrinhB0b-DCAI9BPCtJswRsclqam7R7Z1O3R2mNsHgJ2kdva-KsuZvA371IMW-sr_83o7IZtc6aFs3nfFeVV_R-Br9cwQLEmhXtXuTJgcGmrHP1I1h4v1RrTJIOYfIfoqEOHA9He1Tda4Kc2sk0YomlFcOiT0beUmOMhl4ncMF3m9WSk5Dgl87PmsMi5yAamF3dY_g8z1-g1DCMi2Nx8mwONmGQ8BS8bZlvF0Fas&p=4&sk=d6034e8acd0d9a21&fvj=0\n",
      "Getting  http://www.indeed.com/pagead/clk?mo=r&ad=-6NYlbfkN0Bx6f83D1ZEszYZrSDUIjEzhuKvXA67UqQLjFgVFhCO3sFG56l9740gCqx6NIboL5ny8Q5eAw1WPajgfk7_egnsz6trrJXcjiZCBFHiRry9K6W6exSusln1ngersPR_KGv_duwffHYlMqvOwn8w4pGcjlqAnrQn3kR--Py9mbEczHlJRInQV7IwJbWfTng7hl8km12t7NotcvUCBvFATkZhklikIgLHPP24ue0P-ndD_oLfn2QE4bK4XSnPQPPFjMGh9Gt97tzHJVXJ3ajYuR539Ln1O83XdBwnjCKlj-BN3LocELIa9fGuuYRqR94w9LBr9GDHLa23Sm9F1Mdbs4Kjrt0SJWoJGewd3ilpMmmxev-xxX7YJQrwGrPulU3htklGLoZVGodHi4MBQ14TGkp4n_IHjNnS5SAHFXhh69J3KA-WmLsUV3Yb_L4s3YQ_-ONm6EEXpDBwCTSaloRHMOjzCglLyA3jACoNesIzfCJrrA==&p=5&sk=d6034e8acd0d9a21&fvj=0\n",
      "Done with collecting the job postings!\n",
      "There were 149 jobs successfully found.\n"
     ]
    },
    {
     "ename": "PandasError",
     "evalue": "DataFrame constructor not properly called!",
     "output_type": "error",
     "traceback": [
      "\u001b[1;31m---------------------------------------------------------------------------\u001b[0m",
      "\u001b[1;31mPandasError\u001b[0m                               Traceback (most recent call last)",
      "\u001b[1;32m<ipython-input-97-77c941ae9fdc>\u001b[0m in \u001b[0;36m<module>\u001b[1;34m()\u001b[0m\n\u001b[1;32m----> 1\u001b[1;33m \u001b[0mseattle_info\u001b[0m\u001b[1;33m,\u001b[0m\u001b[0mseattle_frame\u001b[0m \u001b[1;33m=\u001b[0m \u001b[0mskills_info\u001b[0m\u001b[1;33m(\u001b[0m\u001b[0mcity\u001b[0m \u001b[1;33m=\u001b[0m \u001b[1;34m'Seattle'\u001b[0m\u001b[1;33m,\u001b[0m \u001b[0mstate\u001b[0m \u001b[1;33m=\u001b[0m \u001b[1;34m'WA'\u001b[0m\u001b[1;33m)\u001b[0m\u001b[1;33m\u001b[0m\u001b[0m\n\u001b[0m",
      "\u001b[1;32m<ipython-input-96-0b79ec80dead>\u001b[0m in \u001b[0;36mskills_info\u001b[1;34m(city, state)\u001b[0m\n\u001b[0;32m    123\u001b[0m \u001b[1;33m\u001b[0m\u001b[0m\n\u001b[0;32m    124\u001b[0m \u001b[1;33m\u001b[0m\u001b[0m\n\u001b[1;32m--> 125\u001b[1;33m     \u001b[0mfinal_frame\u001b[0m \u001b[1;33m=\u001b[0m \u001b[0mpd\u001b[0m\u001b[1;33m.\u001b[0m\u001b[0mDataFrame\u001b[0m\u001b[1;33m(\u001b[0m\u001b[0moverall_total_skills\u001b[0m\u001b[1;33m.\u001b[0m\u001b[0mitems\u001b[0m\u001b[1;33m(\u001b[0m\u001b[1;33m)\u001b[0m\u001b[1;33m,\u001b[0m \u001b[0mcolumns\u001b[0m \u001b[1;33m=\u001b[0m \u001b[1;33m[\u001b[0m\u001b[1;34m'Term'\u001b[0m\u001b[1;33m,\u001b[0m \u001b[1;34m'NumPostings'\u001b[0m\u001b[1;33m]\u001b[0m\u001b[1;33m)\u001b[0m \u001b[1;31m# Convert these terms to a\u001b[0m\u001b[1;33m\u001b[0m\u001b[0m\n\u001b[0m\u001b[0;32m    126\u001b[0m                                                                                                 \u001b[1;31m# dataframe\u001b[0m\u001b[1;33m\u001b[0m\u001b[1;33m\u001b[0m\u001b[0m\n\u001b[0;32m    127\u001b[0m \u001b[1;33m\u001b[0m\u001b[0m\n",
      "\u001b[1;32mC:\\KJ\\Software\\Anaconda3\\lib\\site-packages\\pandas\\core\\frame.py\u001b[0m in \u001b[0;36m__init__\u001b[1;34m(self, data, index, columns, dtype, copy)\u001b[0m\n\u001b[0;32m    284\u001b[0m                                          copy=False)\n\u001b[0;32m    285\u001b[0m             \u001b[1;32melse\u001b[0m\u001b[1;33m:\u001b[0m\u001b[1;33m\u001b[0m\u001b[0m\n\u001b[1;32m--> 286\u001b[1;33m                 \u001b[1;32mraise\u001b[0m \u001b[0mPandasError\u001b[0m\u001b[1;33m(\u001b[0m\u001b[1;34m'DataFrame constructor not properly called!'\u001b[0m\u001b[1;33m)\u001b[0m\u001b[1;33m\u001b[0m\u001b[0m\n\u001b[0m\u001b[0;32m    287\u001b[0m \u001b[1;33m\u001b[0m\u001b[0m\n\u001b[0;32m    288\u001b[0m         \u001b[0mNDFrame\u001b[0m\u001b[1;33m.\u001b[0m\u001b[0m__init__\u001b[0m\u001b[1;33m(\u001b[0m\u001b[0mself\u001b[0m\u001b[1;33m,\u001b[0m \u001b[0mmgr\u001b[0m\u001b[1;33m,\u001b[0m \u001b[0mfastpath\u001b[0m\u001b[1;33m=\u001b[0m\u001b[1;32mTrue\u001b[0m\u001b[1;33m)\u001b[0m\u001b[1;33m\u001b[0m\u001b[0m\n",
      "\u001b[1;31mPandasError\u001b[0m: DataFrame constructor not properly called!"
     ]
    }
   ],
   "source": [
    "seattle_info,seattle_frame = skills_info(city = 'Seattle', state = 'WA') "
   ]
  },
  {
   "cell_type": "code",
   "execution_count": 94,
   "metadata": {
    "collapsed": true
   },
   "outputs": [],
   "source": [
    "seattle_info\n"
   ]
  }
 ],
 "metadata": {
  "kernelspec": {
   "display_name": "Python 3",
   "language": "python",
   "name": "python3"
  },
  "language_info": {
   "codemirror_mode": {
    "name": "ipython",
    "version": 3
   },
   "file_extension": ".py",
   "mimetype": "text/x-python",
   "name": "python",
   "nbconvert_exporter": "python",
   "pygments_lexer": "ipython3",
   "version": "3.4.3"
  }
 },
 "nbformat": 4,
 "nbformat_minor": 0
}

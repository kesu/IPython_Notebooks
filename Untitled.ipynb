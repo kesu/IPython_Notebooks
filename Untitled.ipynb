{
 "cells": [
  {
   "cell_type": "code",
   "execution_count": 5,
   "metadata": {
    "collapsed": false
   },
   "outputs": [
    {
     "data": {
      "text/plain": [
       "range(0, 3)"
      ]
     },
     "execution_count": 5,
     "metadata": {},
     "output_type": "execute_result"
    }
   ],
   "source": [
    "a"
   ]
  },
  {
   "cell_type": "code",
   "execution_count": 6,
   "metadata": {
    "collapsed": false
   },
   "outputs": [
    {
     "name": "stdout",
     "output_type": "stream",
     "text": [
      "Hello\n"
     ]
    }
   ],
   "source": [
    "print (\"Hello\")"
   ]
  },
  {
   "cell_type": "code",
   "execution_count": 4,
   "metadata": {
    "collapsed": false
   },
   "outputs": [
    {
     "name": "stdout",
     "output_type": "stream",
     "text": [
      "range(0, 3)\n"
     ]
    }
   ],
   "source": [
    "a = range(3)\n",
    "print (a)"
   ]
  },
  {
   "cell_type": "code",
   "execution_count": 2,
   "metadata": {
    "collapsed": false
   },
   "outputs": [],
   "source": [
    "import sys"
   ]
  },
  {
   "cell_type": "code",
   "execution_count": 6,
   "metadata": {
    "collapsed": false,
    "scrolled": false
   },
   "outputs": [
    {
     "data": {
      "text/plain": [
       "'3.4.3 |Anaconda 2.2.0 (64-bit)| (default, Mar  6 2015, 12:06:10) [MSC v.1600 64 bit (AMD64)]'"
      ]
     },
     "execution_count": 6,
     "metadata": {},
     "output_type": "execute_result"
    }
   ],
   "source": [
    "sys.version"
   ]
  },
  {
   "cell_type": "code",
   "execution_count": 7,
   "metadata": {
    "collapsed": false
   },
   "outputs": [
    {
     "name": "stdout",
     "output_type": "stream",
     "text": [
      "3.4.3 |Anaconda 2.2.0 (64-bit)| (default, Mar  6 2015, 12:06:10) [MSC v.1600 64 bit (AMD64)]\n"
     ]
    }
   ],
   "source": [
    "print (sys.version)"
   ]
  },
  {
   "cell_type": "code",
   "execution_count": 8,
   "metadata": {
    "collapsed": true
   },
   "outputs": [],
   "source": [
    "from sklearn import datasets\n",
    "iris = datasets.load_iris()\n",
    "digits = datasets.load_digits()"
   ]
  },
  {
   "cell_type": "code",
   "execution_count": 12,
   "metadata": {
    "collapsed": false
   },
   "outputs": [
    {
     "data": {
      "text/plain": [
       "array([  0.,   0.,   0.,  12.,  13.,   5.,   0.,   0.,   0.,   0.,   0.,\n",
       "        11.,  16.,   9.,   0.,   0.,   0.,   0.,   3.,  15.,  16.,   6.,\n",
       "         0.,   0.,   0.,   7.,  15.,  16.,  16.,   2.,   0.,   0.,   0.,\n",
       "         0.,   1.,  16.,  16.,   3.,   0.,   0.,   0.,   0.,   1.,  16.,\n",
       "        16.,   6.,   0.,   0.,   0.,   0.,   1.,  16.,  16.,   6.,   0.,\n",
       "         0.,   0.,   0.,   0.,  11.,  16.,  10.,   0.,   0.])"
      ]
     },
     "execution_count": 12,
     "metadata": {},
     "output_type": "execute_result"
    }
   ],
   "source": [
    "digits.data[1]"
   ]
  },
  {
   "cell_type": "code",
   "execution_count": 13,
   "metadata": {
    "collapsed": false
   },
   "outputs": [
    {
     "data": {
      "text/plain": [
       "array([[  0.,   0.,   0.,  12.,  13.,   5.,   0.,   0.],\n",
       "       [  0.,   0.,   0.,  11.,  16.,   9.,   0.,   0.],\n",
       "       [  0.,   0.,   3.,  15.,  16.,   6.,   0.,   0.],\n",
       "       [  0.,   7.,  15.,  16.,  16.,   2.,   0.,   0.],\n",
       "       [  0.,   0.,   1.,  16.,  16.,   3.,   0.,   0.],\n",
       "       [  0.,   0.,   1.,  16.,  16.,   6.,   0.,   0.],\n",
       "       [  0.,   0.,   1.,  16.,  16.,   6.,   0.,   0.],\n",
       "       [  0.,   0.,   0.,  11.,  16.,  10.,   0.,   0.]])"
      ]
     },
     "execution_count": 13,
     "metadata": {},
     "output_type": "execute_result"
    }
   ],
   "source": [
    "digits.images[1]"
   ]
  },
  {
   "cell_type": "code",
   "execution_count": 14,
   "metadata": {
    "collapsed": false
   },
   "outputs": [
    {
     "data": {
      "text/plain": [
       "1"
      ]
     },
     "execution_count": 14,
     "metadata": {},
     "output_type": "execute_result"
    }
   ],
   "source": [
    "digits.target[1]"
   ]
  },
  {
   "cell_type": "code",
   "execution_count": 15,
   "metadata": {
    "collapsed": true
   },
   "outputs": [],
   "source": [
    "from sklearn import svm\n",
    "clf = svm.SVC(gamma=0.001, C=100.)"
   ]
  },
  {
   "cell_type": "code",
   "execution_count": 16,
   "metadata": {
    "collapsed": false
   },
   "outputs": [
    {
     "data": {
      "text/plain": [
       "SVC(C=100.0, cache_size=200, class_weight=None, coef0=0.0, degree=3,\n",
       "  gamma=0.001, kernel='rbf', max_iter=-1, probability=False,\n",
       "  random_state=None, shrinking=True, tol=0.001, verbose=False)"
      ]
     },
     "execution_count": 16,
     "metadata": {},
     "output_type": "execute_result"
    }
   ],
   "source": [
    "clf.fit(digits.data[:-1], digits.target[:-1])  "
   ]
  },
  {
   "cell_type": "code",
   "execution_count": 31,
   "metadata": {
    "collapsed": false
   },
   "outputs": [
    {
     "data": {
      "text/plain": [
       "array([9])"
      ]
     },
     "execution_count": 31,
     "metadata": {},
     "output_type": "execute_result"
    }
   ],
   "source": [
    "clf.predict(digits.data[-2])"
   ]
  },
  {
   "cell_type": "code",
   "execution_count": 23,
   "metadata": {
    "collapsed": false
   },
   "outputs": [
    {
     "name": "stdout",
     "output_type": "stream",
     "text": [
      "Automatically created module for IPython interactive environment\n"
     ]
    }
   ],
   "source": [
    "print(__doc__)"
   ]
  },
  {
   "cell_type": "code",
   "execution_count": 24,
   "metadata": {
    "collapsed": true
   },
   "outputs": [],
   "source": [
    "import matplotlib.pyplot as plt"
   ]
  },
  {
   "cell_type": "code",
   "execution_count": 25,
   "metadata": {
    "collapsed": true
   },
   "outputs": [],
   "source": [
    "plt.figure(1, figsize=(3, 3))\n",
    "plt.imshow(digits.images[-1], cmap=plt.cm.gray_r, interpolation='nearest')\n",
    "plt.show()"
   ]
  },
  {
   "cell_type": "code",
   "execution_count": 30,
   "metadata": {
    "collapsed": true
   },
   "outputs": [],
   "source": [
    "plt.imshow(digits.images[-2], cmap=plt.cm.gray_r, interpolation='nearest')\n",
    "plt.show()"
   ]
  },
  {
   "cell_type": "code",
   "execution_count": 33,
   "metadata": {
    "collapsed": true
   },
   "outputs": [],
   "source": [
    "import pandas as pd\n",
    "import numpy as np\n",
    "import matplotlib.pyplot as plt"
   ]
  },
  {
   "cell_type": "code",
   "execution_count": 36,
   "metadata": {
    "collapsed": true
   },
   "outputs": [],
   "source": [
    "s = pd.Series([1,3,5,np.nan,6,8])"
   ]
  },
  {
   "cell_type": "code",
   "execution_count": 35,
   "metadata": {
    "collapsed": false
   },
   "outputs": [
    {
     "data": {
      "text/plain": [
       "0     1\n",
       "1     3\n",
       "2     5\n",
       "3   NaN\n",
       "4     6\n",
       "5     8\n",
       "dtype: float64"
      ]
     },
     "execution_count": 35,
     "metadata": {},
     "output_type": "execute_result"
    }
   ],
   "source": [
    "s"
   ]
  },
  {
   "cell_type": "code",
   "execution_count": 38,
   "metadata": {
    "collapsed": true
   },
   "outputs": [],
   "source": [
    "dates = pd.date_range('20130101', periods=6)"
   ]
  },
  {
   "cell_type": "code",
   "execution_count": 39,
   "metadata": {
    "collapsed": false
   },
   "outputs": [
    {
     "data": {
      "text/plain": [
       "<class 'pandas.tseries.index.DatetimeIndex'>\n",
       "[2013-01-01, ..., 2013-01-06]\n",
       "Length: 6, Freq: D, Timezone: None"
      ]
     },
     "execution_count": 39,
     "metadata": {},
     "output_type": "execute_result"
    }
   ],
   "source": [
    "dates"
   ]
  },
  {
   "cell_type": "code",
   "execution_count": 40,
   "metadata": {
    "collapsed": false
   },
   "outputs": [
    {
     "data": {
      "text/plain": [
       "<class 'pandas.tseries.index.DatetimeIndex'>\n",
       "[2013-01-01, ..., 2013-01-06]\n",
       "Length: 6, Freq: D, Timezone: None"
      ]
     },
     "execution_count": 40,
     "metadata": {},
     "output_type": "execute_result"
    }
   ],
   "source": [
    "dates"
   ]
  },
  {
   "cell_type": "code",
   "execution_count": 41,
   "metadata": {
    "collapsed": false
   },
   "outputs": [
    {
     "data": {
      "text/html": [
       "<div style=\"max-height:1000px;max-width:1500px;overflow:auto;\">\n",
       "<table border=\"1\" class=\"dataframe\">\n",
       "  <thead>\n",
       "    <tr style=\"text-align: right;\">\n",
       "      <th></th>\n",
       "      <th>A</th>\n",
       "      <th>B</th>\n",
       "      <th>C</th>\n",
       "      <th>D</th>\n",
       "    </tr>\n",
       "  </thead>\n",
       "  <tbody>\n",
       "    <tr>\n",
       "      <th>2013-01-01</th>\n",
       "      <td>-0.328501</td>\n",
       "      <td>-0.426111</td>\n",
       "      <td> 1.031907</td>\n",
       "      <td>-0.281603</td>\n",
       "    </tr>\n",
       "    <tr>\n",
       "      <th>2013-01-02</th>\n",
       "      <td>-0.611994</td>\n",
       "      <td>-1.141311</td>\n",
       "      <td>-0.058559</td>\n",
       "      <td> 1.677415</td>\n",
       "    </tr>\n",
       "    <tr>\n",
       "      <th>2013-01-03</th>\n",
       "      <td> 0.220895</td>\n",
       "      <td> 1.174642</td>\n",
       "      <td>-0.114088</td>\n",
       "      <td> 1.195975</td>\n",
       "    </tr>\n",
       "    <tr>\n",
       "      <th>2013-01-04</th>\n",
       "      <td>-0.150721</td>\n",
       "      <td>-0.124858</td>\n",
       "      <td>-0.851869</td>\n",
       "      <td> 1.010178</td>\n",
       "    </tr>\n",
       "    <tr>\n",
       "      <th>2013-01-05</th>\n",
       "      <td> 1.174736</td>\n",
       "      <td> 1.043810</td>\n",
       "      <td>-3.287849</td>\n",
       "      <td>-0.909085</td>\n",
       "    </tr>\n",
       "    <tr>\n",
       "      <th>2013-01-06</th>\n",
       "      <td>-0.949566</td>\n",
       "      <td>-0.863674</td>\n",
       "      <td>-1.778853</td>\n",
       "      <td>-0.567319</td>\n",
       "    </tr>\n",
       "  </tbody>\n",
       "</table>\n",
       "</div>"
      ],
      "text/plain": [
       "                   A         B         C         D\n",
       "2013-01-01 -0.328501 -0.426111  1.031907 -0.281603\n",
       "2013-01-02 -0.611994 -1.141311 -0.058559  1.677415\n",
       "2013-01-03  0.220895  1.174642 -0.114088  1.195975\n",
       "2013-01-04 -0.150721 -0.124858 -0.851869  1.010178\n",
       "2013-01-05  1.174736  1.043810 -3.287849 -0.909085\n",
       "2013-01-06 -0.949566 -0.863674 -1.778853 -0.567319"
      ]
     },
     "execution_count": 41,
     "metadata": {},
     "output_type": "execute_result"
    }
   ],
   "source": [
    "df = pd.DataFrame(np.random.randn(6,4), index=dates, columns=list('ABCD'))\n",
    "df"
   ]
  },
  {
   "cell_type": "code",
   "execution_count": 43,
   "metadata": {
    "collapsed": false
   },
   "outputs": [
    {
     "data": {
      "text/html": [
       "<div style=\"max-height:1000px;max-width:1500px;overflow:auto;\">\n",
       "<table border=\"1\" class=\"dataframe\">\n",
       "  <thead>\n",
       "    <tr style=\"text-align: right;\">\n",
       "      <th></th>\n",
       "      <th>2013-01-01 00:00:00</th>\n",
       "      <th>2013-01-02 00:00:00</th>\n",
       "      <th>2013-01-03 00:00:00</th>\n",
       "      <th>2013-01-04 00:00:00</th>\n",
       "      <th>2013-01-05 00:00:00</th>\n",
       "      <th>2013-01-06 00:00:00</th>\n",
       "    </tr>\n",
       "  </thead>\n",
       "  <tbody>\n",
       "    <tr>\n",
       "      <th>A</th>\n",
       "      <td>-0.328501</td>\n",
       "      <td>-0.611994</td>\n",
       "      <td> 0.220895</td>\n",
       "      <td>-0.150721</td>\n",
       "      <td> 1.174736</td>\n",
       "      <td>-0.949566</td>\n",
       "    </tr>\n",
       "    <tr>\n",
       "      <th>B</th>\n",
       "      <td>-0.426111</td>\n",
       "      <td>-1.141311</td>\n",
       "      <td> 1.174642</td>\n",
       "      <td>-0.124858</td>\n",
       "      <td> 1.043810</td>\n",
       "      <td>-0.863674</td>\n",
       "    </tr>\n",
       "    <tr>\n",
       "      <th>C</th>\n",
       "      <td> 1.031907</td>\n",
       "      <td>-0.058559</td>\n",
       "      <td>-0.114088</td>\n",
       "      <td>-0.851869</td>\n",
       "      <td>-3.287849</td>\n",
       "      <td>-1.778853</td>\n",
       "    </tr>\n",
       "    <tr>\n",
       "      <th>D</th>\n",
       "      <td>-0.281603</td>\n",
       "      <td> 1.677415</td>\n",
       "      <td> 1.195975</td>\n",
       "      <td> 1.010178</td>\n",
       "      <td>-0.909085</td>\n",
       "      <td>-0.567319</td>\n",
       "    </tr>\n",
       "  </tbody>\n",
       "</table>\n",
       "</div>"
      ],
      "text/plain": [
       "   2013-01-01  2013-01-02  2013-01-03  2013-01-04  2013-01-05  2013-01-06\n",
       "A   -0.328501   -0.611994    0.220895   -0.150721    1.174736   -0.949566\n",
       "B   -0.426111   -1.141311    1.174642   -0.124858    1.043810   -0.863674\n",
       "C    1.031907   -0.058559   -0.114088   -0.851869   -3.287849   -1.778853\n",
       "D   -0.281603    1.677415    1.195975    1.010178   -0.909085   -0.567319"
      ]
     },
     "execution_count": 43,
     "metadata": {},
     "output_type": "execute_result"
    }
   ],
   "source": [
    "df.T"
   ]
  },
  {
   "cell_type": "code",
   "execution_count": 44,
   "metadata": {
    "collapsed": false
   },
   "outputs": [
    {
     "data": {
      "text/html": [
       "<div style=\"max-height:1000px;max-width:1500px;overflow:auto;\">\n",
       "<table border=\"1\" class=\"dataframe\">\n",
       "  <thead>\n",
       "    <tr style=\"text-align: right;\">\n",
       "      <th></th>\n",
       "      <th>D</th>\n",
       "      <th>C</th>\n",
       "      <th>B</th>\n",
       "      <th>A</th>\n",
       "    </tr>\n",
       "  </thead>\n",
       "  <tbody>\n",
       "    <tr>\n",
       "      <th>2013-01-01</th>\n",
       "      <td>-0.281603</td>\n",
       "      <td> 1.031907</td>\n",
       "      <td>-0.426111</td>\n",
       "      <td>-0.328501</td>\n",
       "    </tr>\n",
       "    <tr>\n",
       "      <th>2013-01-02</th>\n",
       "      <td> 1.677415</td>\n",
       "      <td>-0.058559</td>\n",
       "      <td>-1.141311</td>\n",
       "      <td>-0.611994</td>\n",
       "    </tr>\n",
       "    <tr>\n",
       "      <th>2013-01-03</th>\n",
       "      <td> 1.195975</td>\n",
       "      <td>-0.114088</td>\n",
       "      <td> 1.174642</td>\n",
       "      <td> 0.220895</td>\n",
       "    </tr>\n",
       "    <tr>\n",
       "      <th>2013-01-04</th>\n",
       "      <td> 1.010178</td>\n",
       "      <td>-0.851869</td>\n",
       "      <td>-0.124858</td>\n",
       "      <td>-0.150721</td>\n",
       "    </tr>\n",
       "    <tr>\n",
       "      <th>2013-01-05</th>\n",
       "      <td>-0.909085</td>\n",
       "      <td>-3.287849</td>\n",
       "      <td> 1.043810</td>\n",
       "      <td> 1.174736</td>\n",
       "    </tr>\n",
       "    <tr>\n",
       "      <th>2013-01-06</th>\n",
       "      <td>-0.567319</td>\n",
       "      <td>-1.778853</td>\n",
       "      <td>-0.863674</td>\n",
       "      <td>-0.949566</td>\n",
       "    </tr>\n",
       "  </tbody>\n",
       "</table>\n",
       "</div>"
      ],
      "text/plain": [
       "                   D         C         B         A\n",
       "2013-01-01 -0.281603  1.031907 -0.426111 -0.328501\n",
       "2013-01-02  1.677415 -0.058559 -1.141311 -0.611994\n",
       "2013-01-03  1.195975 -0.114088  1.174642  0.220895\n",
       "2013-01-04  1.010178 -0.851869 -0.124858 -0.150721\n",
       "2013-01-05 -0.909085 -3.287849  1.043810  1.174736\n",
       "2013-01-06 -0.567319 -1.778853 -0.863674 -0.949566"
      ]
     },
     "execution_count": 44,
     "metadata": {},
     "output_type": "execute_result"
    }
   ],
   "source": [
    "df.sort_index(axis=1, ascending=False)"
   ]
  },
  {
   "cell_type": "code",
   "execution_count": 45,
   "metadata": {
    "collapsed": false
   },
   "outputs": [
    {
     "data": {
      "text/html": [
       "<div style=\"max-height:1000px;max-width:1500px;overflow:auto;\">\n",
       "<table border=\"1\" class=\"dataframe\">\n",
       "  <thead>\n",
       "    <tr style=\"text-align: right;\">\n",
       "      <th></th>\n",
       "      <th>A</th>\n",
       "      <th>B</th>\n",
       "      <th>C</th>\n",
       "      <th>D</th>\n",
       "    </tr>\n",
       "  </thead>\n",
       "  <tbody>\n",
       "    <tr>\n",
       "      <th>2013-01-02</th>\n",
       "      <td>-0.611994</td>\n",
       "      <td>-1.141311</td>\n",
       "      <td>-0.058559</td>\n",
       "      <td> 1.677415</td>\n",
       "    </tr>\n",
       "    <tr>\n",
       "      <th>2013-01-06</th>\n",
       "      <td>-0.949566</td>\n",
       "      <td>-0.863674</td>\n",
       "      <td>-1.778853</td>\n",
       "      <td>-0.567319</td>\n",
       "    </tr>\n",
       "    <tr>\n",
       "      <th>2013-01-01</th>\n",
       "      <td>-0.328501</td>\n",
       "      <td>-0.426111</td>\n",
       "      <td> 1.031907</td>\n",
       "      <td>-0.281603</td>\n",
       "    </tr>\n",
       "    <tr>\n",
       "      <th>2013-01-04</th>\n",
       "      <td>-0.150721</td>\n",
       "      <td>-0.124858</td>\n",
       "      <td>-0.851869</td>\n",
       "      <td> 1.010178</td>\n",
       "    </tr>\n",
       "    <tr>\n",
       "      <th>2013-01-05</th>\n",
       "      <td> 1.174736</td>\n",
       "      <td> 1.043810</td>\n",
       "      <td>-3.287849</td>\n",
       "      <td>-0.909085</td>\n",
       "    </tr>\n",
       "    <tr>\n",
       "      <th>2013-01-03</th>\n",
       "      <td> 0.220895</td>\n",
       "      <td> 1.174642</td>\n",
       "      <td>-0.114088</td>\n",
       "      <td> 1.195975</td>\n",
       "    </tr>\n",
       "  </tbody>\n",
       "</table>\n",
       "</div>"
      ],
      "text/plain": [
       "                   A         B         C         D\n",
       "2013-01-02 -0.611994 -1.141311 -0.058559  1.677415\n",
       "2013-01-06 -0.949566 -0.863674 -1.778853 -0.567319\n",
       "2013-01-01 -0.328501 -0.426111  1.031907 -0.281603\n",
       "2013-01-04 -0.150721 -0.124858 -0.851869  1.010178\n",
       "2013-01-05  1.174736  1.043810 -3.287849 -0.909085\n",
       "2013-01-03  0.220895  1.174642 -0.114088  1.195975"
      ]
     },
     "execution_count": 45,
     "metadata": {},
     "output_type": "execute_result"
    }
   ],
   "source": [
    "df.sort(columns='B')"
   ]
  },
  {
   "cell_type": "code",
   "execution_count": 46,
   "metadata": {
    "collapsed": false
   },
   "outputs": [
    {
     "data": {
      "text/plain": [
       "2013-01-01   -0.328501\n",
       "2013-01-02   -0.611994\n",
       "2013-01-03    0.220895\n",
       "2013-01-04   -0.150721\n",
       "2013-01-05    1.174736\n",
       "2013-01-06   -0.949566\n",
       "Freq: D, Name: A, dtype: float64"
      ]
     },
     "execution_count": 46,
     "metadata": {},
     "output_type": "execute_result"
    }
   ],
   "source": [
    "df.A"
   ]
  },
  {
   "cell_type": "code",
   "execution_count": 48,
   "metadata": {
    "collapsed": false
   },
   "outputs": [
    {
     "data": {
      "text/plain": [
       "<matplotlib.axes._subplots.AxesSubplot at 0xb167198>"
      ]
     },
     "execution_count": 48,
     "metadata": {},
     "output_type": "execute_result"
    }
   ],
   "source": [
    "ts = pd.Series(np.random.randn(1000), index=pd.date_range('1/1/2000', periods=1000))\n",
    "ts = ts.cumsum()\n",
    "ts.plot()"
   ]
  },
  {
   "cell_type": "code",
   "execution_count": 50,
   "metadata": {
    "collapsed": false
   },
   "outputs": [
    {
     "data": {
      "text/plain": [
       "<matplotlib.axes._subplots.AxesSubplot at 0xb167198>"
      ]
     },
     "execution_count": 50,
     "metadata": {},
     "output_type": "execute_result"
    }
   ],
   "source": [
    "ts.plot()"
   ]
  },
  {
   "cell_type": "code",
   "execution_count": 52,
   "metadata": {
    "collapsed": true
   },
   "outputs": [],
   "source": [
    "%matplotlib inline"
   ]
  },
  {
   "cell_type": "code",
   "execution_count": 53,
   "metadata": {
    "collapsed": false
   },
   "outputs": [
    {
     "data": {
      "text/plain": [
       "<matplotlib.axes._subplots.AxesSubplot at 0xb8a2080>"
      ]
     },
     "execution_count": 53,
     "metadata": {},
     "output_type": "execute_result"
    },
    {
     "data": {
      "image/png": "[encoded data removed]",
      "text/plain": [
       "<matplotlib.figure.Figure at 0xb6e6a58>"
      ]
     },
     "metadata": {},
     "output_type": "display_data"
    }
   ],
   "source": [
    "ts.plot()"
   ]
  },
  {
   "cell_type": "code",
   "execution_count": 54,
   "metadata": {
    "collapsed": false
   },
   "outputs": [
    {
     "data": {
      "text/plain": [
       "<matplotlib.legend.Legend at 0xb7b7860>"
      ]
     },
     "execution_count": 54,
     "metadata": {},
     "output_type": "execute_result"
    },
    {
     "data": {
      "text/plain": [
       "<matplotlib.figure.Figure at 0xb7bb6a0>"
      ]
     },
     "metadata": {},
     "output_type": "display_data"
    },
    {
     "data": {
      "image/png": "[encoded data removed]",
      "text/plain": [
       "<matplotlib.figure.Figure at 0xb7b7828>"
      ]
     },
     "metadata": {},
     "output_type": "display_data"
    }
   ],
   "source": [
    "df = pd.DataFrame(np.random.randn(1000, 4), index=ts.index,columns=['A', 'B', 'C', 'D'])\n",
    "df = df.cumsum()\n",
    "plt.figure(); df.plot(); plt.legend(loc='best')\n"
   ]
  },
  {
   "cell_type": "code",
   "execution_count": 55,
   "metadata": {
    "collapsed": false
   },
   "outputs": [
    {
     "data": {
      "text/html": [
       "<div style=\"max-height:1000px;max-width:1500px;overflow:auto;\">\n",
       "<table border=\"1\" class=\"dataframe\">\n",
       "  <thead>\n",
       "    <tr style=\"text-align: right;\">\n",
       "      <th></th>\n",
       "      <th>A</th>\n",
       "      <th>B</th>\n",
       "      <th>C</th>\n",
       "      <th>D</th>\n",
       "    </tr>\n",
       "  </thead>\n",
       "  <tbody>\n",
       "    <tr>\n",
       "      <th>2000-01-01</th>\n",
       "      <td> 0.106466</td>\n",
       "      <td> -0.092027</td>\n",
       "      <td>  0.279396</td>\n",
       "      <td> 1.508930</td>\n",
       "    </tr>\n",
       "    <tr>\n",
       "      <th>2000-01-02</th>\n",
       "      <td>-1.077704</td>\n",
       "      <td>  0.025482</td>\n",
       "      <td> -0.369481</td>\n",
       "      <td> 2.071159</td>\n",
       "    </tr>\n",
       "    <tr>\n",
       "      <th>2000-01-03</th>\n",
       "      <td>-1.832794</td>\n",
       "      <td> -2.371742</td>\n",
       "      <td>  0.967227</td>\n",
       "      <td> 3.142555</td>\n",
       "    </tr>\n",
       "    <tr>\n",
       "      <th>2000-01-04</th>\n",
       "      <td>-2.834987</td>\n",
       "      <td> -0.675155</td>\n",
       "      <td>  0.697078</td>\n",
       "      <td> 4.257264</td>\n",
       "    </tr>\n",
       "    <tr>\n",
       "      <th>2000-01-05</th>\n",
       "      <td>-3.863056</td>\n",
       "      <td> -1.458261</td>\n",
       "      <td>  1.015262</td>\n",
       "      <td> 4.453867</td>\n",
       "    </tr>\n",
       "    <tr>\n",
       "      <th>2000-01-06</th>\n",
       "      <td>-3.076409</td>\n",
       "      <td> -0.866723</td>\n",
       "      <td>  0.626459</td>\n",
       "      <td> 7.488459</td>\n",
       "    </tr>\n",
       "    <tr>\n",
       "      <th>2000-01-07</th>\n",
       "      <td>-1.123337</td>\n",
       "      <td> -1.310272</td>\n",
       "      <td> -0.078791</td>\n",
       "      <td> 8.522075</td>\n",
       "    </tr>\n",
       "    <tr>\n",
       "      <th>2000-01-08</th>\n",
       "      <td>-2.985317</td>\n",
       "      <td> -2.676742</td>\n",
       "      <td> -0.780573</td>\n",
       "      <td> 7.327710</td>\n",
       "    </tr>\n",
       "    <tr>\n",
       "      <th>2000-01-09</th>\n",
       "      <td>-2.760218</td>\n",
       "      <td> -2.808209</td>\n",
       "      <td> -0.198556</td>\n",
       "      <td> 7.906690</td>\n",
       "    </tr>\n",
       "    <tr>\n",
       "      <th>2000-01-10</th>\n",
       "      <td>-2.519080</td>\n",
       "      <td> -2.515469</td>\n",
       "      <td> -0.293273</td>\n",
       "      <td> 8.119129</td>\n",
       "    </tr>\n",
       "    <tr>\n",
       "      <th>2000-01-11</th>\n",
       "      <td>-2.653298</td>\n",
       "      <td> -0.260649</td>\n",
       "      <td> -0.117252</td>\n",
       "      <td> 8.874157</td>\n",
       "    </tr>\n",
       "    <tr>\n",
       "      <th>2000-01-12</th>\n",
       "      <td>-3.265002</td>\n",
       "      <td> -1.359896</td>\n",
       "      <td>  0.073985</td>\n",
       "      <td> 8.697496</td>\n",
       "    </tr>\n",
       "    <tr>\n",
       "      <th>2000-01-13</th>\n",
       "      <td>-2.278123</td>\n",
       "      <td> -1.570682</td>\n",
       "      <td> -0.565464</td>\n",
       "      <td> 7.193652</td>\n",
       "    </tr>\n",
       "    <tr>\n",
       "      <th>2000-01-14</th>\n",
       "      <td>-2.981417</td>\n",
       "      <td> -0.368370</td>\n",
       "      <td> -1.254011</td>\n",
       "      <td> 7.465216</td>\n",
       "    </tr>\n",
       "    <tr>\n",
       "      <th>2000-01-15</th>\n",
       "      <td>-4.007211</td>\n",
       "      <td> -1.790706</td>\n",
       "      <td> -0.263187</td>\n",
       "      <td> 7.590861</td>\n",
       "    </tr>\n",
       "    <tr>\n",
       "      <th>2000-01-16</th>\n",
       "      <td>-3.678380</td>\n",
       "      <td> -2.559561</td>\n",
       "      <td>  1.410641</td>\n",
       "      <td> 6.922395</td>\n",
       "    </tr>\n",
       "    <tr>\n",
       "      <th>2000-01-17</th>\n",
       "      <td>-1.512922</td>\n",
       "      <td> -2.495823</td>\n",
       "      <td>  2.089466</td>\n",
       "      <td> 9.046444</td>\n",
       "    </tr>\n",
       "    <tr>\n",
       "      <th>2000-01-18</th>\n",
       "      <td>-2.299643</td>\n",
       "      <td> -2.733362</td>\n",
       "      <td>  3.301275</td>\n",
       "      <td> 7.321633</td>\n",
       "    </tr>\n",
       "    <tr>\n",
       "      <th>2000-01-19</th>\n",
       "      <td>-2.119173</td>\n",
       "      <td> -1.253602</td>\n",
       "      <td>  3.064975</td>\n",
       "      <td> 6.976720</td>\n",
       "    </tr>\n",
       "    <tr>\n",
       "      <th>2000-01-20</th>\n",
       "      <td>-1.377097</td>\n",
       "      <td> -0.900514</td>\n",
       "      <td>  1.881565</td>\n",
       "      <td> 7.030547</td>\n",
       "    </tr>\n",
       "    <tr>\n",
       "      <th>2000-01-21</th>\n",
       "      <td> 0.323585</td>\n",
       "      <td> -1.528175</td>\n",
       "      <td>  2.345001</td>\n",
       "      <td> 4.604560</td>\n",
       "    </tr>\n",
       "    <tr>\n",
       "      <th>2000-01-22</th>\n",
       "      <td> 0.898151</td>\n",
       "      <td> -1.813856</td>\n",
       "      <td>  2.650784</td>\n",
       "      <td> 4.399784</td>\n",
       "    </tr>\n",
       "    <tr>\n",
       "      <th>2000-01-23</th>\n",
       "      <td> 1.086694</td>\n",
       "      <td> -2.528359</td>\n",
       "      <td>  1.101620</td>\n",
       "      <td> 5.103850</td>\n",
       "    </tr>\n",
       "    <tr>\n",
       "      <th>2000-01-24</th>\n",
       "      <td> 2.223510</td>\n",
       "      <td> -2.052211</td>\n",
       "      <td>  1.514955</td>\n",
       "      <td> 5.826975</td>\n",
       "    </tr>\n",
       "    <tr>\n",
       "      <th>2000-01-25</th>\n",
       "      <td> 3.154801</td>\n",
       "      <td> -2.278768</td>\n",
       "      <td>  1.987855</td>\n",
       "      <td> 7.210415</td>\n",
       "    </tr>\n",
       "    <tr>\n",
       "      <th>2000-01-26</th>\n",
       "      <td> 3.798766</td>\n",
       "      <td> -0.590863</td>\n",
       "      <td>  2.884569</td>\n",
       "      <td> 6.989569</td>\n",
       "    </tr>\n",
       "    <tr>\n",
       "      <th>2000-01-27</th>\n",
       "      <td> 5.403730</td>\n",
       "      <td> -1.055455</td>\n",
       "      <td>  3.953267</td>\n",
       "      <td> 4.667425</td>\n",
       "    </tr>\n",
       "    <tr>\n",
       "      <th>2000-01-28</th>\n",
       "      <td> 5.520092</td>\n",
       "      <td> -0.697968</td>\n",
       "      <td>  4.965108</td>\n",
       "      <td> 4.589336</td>\n",
       "    </tr>\n",
       "    <tr>\n",
       "      <th>2000-01-29</th>\n",
       "      <td> 4.470176</td>\n",
       "      <td> -1.472087</td>\n",
       "      <td>  4.949369</td>\n",
       "      <td> 3.996182</td>\n",
       "    </tr>\n",
       "    <tr>\n",
       "      <th>2000-01-30</th>\n",
       "      <td> 4.353373</td>\n",
       "      <td> -1.274624</td>\n",
       "      <td>  2.945745</td>\n",
       "      <td> 4.887362</td>\n",
       "    </tr>\n",
       "    <tr>\n",
       "      <th>...</th>\n",
       "      <td>...</td>\n",
       "      <td>...</td>\n",
       "      <td>...</td>\n",
       "      <td>...</td>\n",
       "    </tr>\n",
       "    <tr>\n",
       "      <th>2002-08-28</th>\n",
       "      <td>-5.365945</td>\n",
       "      <td> 42.761536</td>\n",
       "      <td> 33.276546</td>\n",
       "      <td> 5.270529</td>\n",
       "    </tr>\n",
       "    <tr>\n",
       "      <th>2002-08-29</th>\n",
       "      <td>-3.459527</td>\n",
       "      <td> 42.664778</td>\n",
       "      <td> 34.086672</td>\n",
       "      <td> 6.659958</td>\n",
       "    </tr>\n",
       "    <tr>\n",
       "      <th>2002-08-30</th>\n",
       "      <td>-2.942672</td>\n",
       "      <td> 41.299415</td>\n",
       "      <td> 33.303757</td>\n",
       "      <td> 7.134467</td>\n",
       "    </tr>\n",
       "    <tr>\n",
       "      <th>2002-08-31</th>\n",
       "      <td>-3.836956</td>\n",
       "      <td> 41.963479</td>\n",
       "      <td> 33.658257</td>\n",
       "      <td> 5.910450</td>\n",
       "    </tr>\n",
       "    <tr>\n",
       "      <th>2002-09-01</th>\n",
       "      <td>-6.517366</td>\n",
       "      <td> 41.835451</td>\n",
       "      <td> 33.716510</td>\n",
       "      <td> 4.083649</td>\n",
       "    </tr>\n",
       "    <tr>\n",
       "      <th>2002-09-02</th>\n",
       "      <td>-6.468161</td>\n",
       "      <td> 41.614994</td>\n",
       "      <td> 34.115523</td>\n",
       "      <td> 4.300917</td>\n",
       "    </tr>\n",
       "    <tr>\n",
       "      <th>2002-09-03</th>\n",
       "      <td>-6.570071</td>\n",
       "      <td> 41.377074</td>\n",
       "      <td> 35.009901</td>\n",
       "      <td> 4.820102</td>\n",
       "    </tr>\n",
       "    <tr>\n",
       "      <th>2002-09-04</th>\n",
       "      <td>-7.483415</td>\n",
       "      <td> 40.015796</td>\n",
       "      <td> 33.667852</td>\n",
       "      <td> 3.758972</td>\n",
       "    </tr>\n",
       "    <tr>\n",
       "      <th>2002-09-05</th>\n",
       "      <td>-6.969313</td>\n",
       "      <td> 37.666969</td>\n",
       "      <td> 33.446772</td>\n",
       "      <td> 2.366022</td>\n",
       "    </tr>\n",
       "    <tr>\n",
       "      <th>2002-09-06</th>\n",
       "      <td>-6.370579</td>\n",
       "      <td> 37.320359</td>\n",
       "      <td> 32.974210</td>\n",
       "      <td> 2.860812</td>\n",
       "    </tr>\n",
       "    <tr>\n",
       "      <th>2002-09-07</th>\n",
       "      <td>-6.881176</td>\n",
       "      <td> 37.593523</td>\n",
       "      <td> 33.526547</td>\n",
       "      <td> 2.205512</td>\n",
       "    </tr>\n",
       "    <tr>\n",
       "      <th>2002-09-08</th>\n",
       "      <td>-6.242074</td>\n",
       "      <td> 37.851813</td>\n",
       "      <td> 34.231806</td>\n",
       "      <td>-0.473591</td>\n",
       "    </tr>\n",
       "    <tr>\n",
       "      <th>2002-09-09</th>\n",
       "      <td>-6.418462</td>\n",
       "      <td> 38.112328</td>\n",
       "      <td> 35.857256</td>\n",
       "      <td>-1.629687</td>\n",
       "    </tr>\n",
       "    <tr>\n",
       "      <th>2002-09-10</th>\n",
       "      <td>-6.620494</td>\n",
       "      <td> 40.196382</td>\n",
       "      <td> 35.745161</td>\n",
       "      <td>-1.584060</td>\n",
       "    </tr>\n",
       "    <tr>\n",
       "      <th>2002-09-11</th>\n",
       "      <td>-4.904972</td>\n",
       "      <td> 41.006204</td>\n",
       "      <td> 35.204255</td>\n",
       "      <td>-1.099547</td>\n",
       "    </tr>\n",
       "    <tr>\n",
       "      <th>2002-09-12</th>\n",
       "      <td>-3.814452</td>\n",
       "      <td> 41.787341</td>\n",
       "      <td> 34.191868</td>\n",
       "      <td>-1.849576</td>\n",
       "    </tr>\n",
       "    <tr>\n",
       "      <th>2002-09-13</th>\n",
       "      <td>-3.785296</td>\n",
       "      <td> 42.413802</td>\n",
       "      <td> 34.605701</td>\n",
       "      <td>-0.337235</td>\n",
       "    </tr>\n",
       "    <tr>\n",
       "      <th>2002-09-14</th>\n",
       "      <td>-3.702458</td>\n",
       "      <td> 42.888295</td>\n",
       "      <td> 34.448158</td>\n",
       "      <td> 0.206210</td>\n",
       "    </tr>\n",
       "    <tr>\n",
       "      <th>2002-09-15</th>\n",
       "      <td>-3.645539</td>\n",
       "      <td> 41.797349</td>\n",
       "      <td> 35.237527</td>\n",
       "      <td>-0.507155</td>\n",
       "    </tr>\n",
       "    <tr>\n",
       "      <th>2002-09-16</th>\n",
       "      <td>-3.692882</td>\n",
       "      <td> 43.302065</td>\n",
       "      <td> 34.578612</td>\n",
       "      <td>-0.225172</td>\n",
       "    </tr>\n",
       "    <tr>\n",
       "      <th>2002-09-17</th>\n",
       "      <td>-3.923034</td>\n",
       "      <td> 42.991732</td>\n",
       "      <td> 35.234248</td>\n",
       "      <td> 1.399644</td>\n",
       "    </tr>\n",
       "    <tr>\n",
       "      <th>2002-09-18</th>\n",
       "      <td>-4.372863</td>\n",
       "      <td> 41.897189</td>\n",
       "      <td> 33.544885</td>\n",
       "      <td>-0.172683</td>\n",
       "    </tr>\n",
       "    <tr>\n",
       "      <th>2002-09-19</th>\n",
       "      <td>-2.194230</td>\n",
       "      <td> 43.604461</td>\n",
       "      <td> 33.404595</td>\n",
       "      <td>-2.545111</td>\n",
       "    </tr>\n",
       "    <tr>\n",
       "      <th>2002-09-20</th>\n",
       "      <td>-1.730578</td>\n",
       "      <td> 42.883406</td>\n",
       "      <td> 33.285445</td>\n",
       "      <td>-2.446497</td>\n",
       "    </tr>\n",
       "    <tr>\n",
       "      <th>2002-09-21</th>\n",
       "      <td>-1.367989</td>\n",
       "      <td> 40.960612</td>\n",
       "      <td> 36.239730</td>\n",
       "      <td>-4.342831</td>\n",
       "    </tr>\n",
       "    <tr>\n",
       "      <th>2002-09-22</th>\n",
       "      <td> 0.213933</td>\n",
       "      <td> 40.703841</td>\n",
       "      <td> 36.601524</td>\n",
       "      <td>-4.216319</td>\n",
       "    </tr>\n",
       "    <tr>\n",
       "      <th>2002-09-23</th>\n",
       "      <td>-0.696056</td>\n",
       "      <td> 42.415371</td>\n",
       "      <td> 36.980023</td>\n",
       "      <td>-5.243140</td>\n",
       "    </tr>\n",
       "    <tr>\n",
       "      <th>2002-09-24</th>\n",
       "      <td>-1.284519</td>\n",
       "      <td> 41.850320</td>\n",
       "      <td> 37.053234</td>\n",
       "      <td>-4.344624</td>\n",
       "    </tr>\n",
       "    <tr>\n",
       "      <th>2002-09-25</th>\n",
       "      <td>-1.569626</td>\n",
       "      <td> 41.597398</td>\n",
       "      <td> 38.980195</td>\n",
       "      <td>-3.686153</td>\n",
       "    </tr>\n",
       "    <tr>\n",
       "      <th>2002-09-26</th>\n",
       "      <td>-2.749122</td>\n",
       "      <td> 42.059481</td>\n",
       "      <td> 40.137692</td>\n",
       "      <td>-2.469109</td>\n",
       "    </tr>\n",
       "  </tbody>\n",
       "</table>\n",
       "<p>1000 rows × 4 columns</p>\n",
       "</div>"
      ],
      "text/plain": [
       "                   A          B          C         D\n",
       "2000-01-01  0.106466  -0.092027   0.279396  1.508930\n",
       "2000-01-02 -1.077704   0.025482  -0.369481  2.071159\n",
       "2000-01-03 -1.832794  -2.371742   0.967227  3.142555\n",
       "2000-01-04 -2.834987  -0.675155   0.697078  4.257264\n",
       "2000-01-05 -3.863056  -1.458261   1.015262  4.453867\n",
       "2000-01-06 -3.076409  -0.866723   0.626459  7.488459\n",
       "2000-01-07 -1.123337  -1.310272  -0.078791  8.522075\n",
       "2000-01-08 -2.985317  -2.676742  -0.780573  7.327710\n",
       "2000-01-09 -2.760218  -2.808209  -0.198556  7.906690\n",
       "2000-01-10 -2.519080  -2.515469  -0.293273  8.119129\n",
       "2000-01-11 -2.653298  -0.260649  -0.117252  8.874157\n",
       "2000-01-12 -3.265002  -1.359896   0.073985  8.697496\n",
       "2000-01-13 -2.278123  -1.570682  -0.565464  7.193652\n",
       "2000-01-14 -2.981417  -0.368370  -1.254011  7.465216\n",
       "2000-01-15 -4.007211  -1.790706  -0.263187  7.590861\n",
       "2000-01-16 -3.678380  -2.559561   1.410641  6.922395\n",
       "2000-01-17 -1.512922  -2.495823   2.089466  9.046444\n",
       "2000-01-18 -2.299643  -2.733362   3.301275  7.321633\n",
       "2000-01-19 -2.119173  -1.253602   3.064975  6.976720\n",
       "2000-01-20 -1.377097  -0.900514   1.881565  7.030547\n",
       "2000-01-21  0.323585  -1.528175   2.345001  4.604560\n",
       "2000-01-22  0.898151  -1.813856   2.650784  4.399784\n",
       "2000-01-23  1.086694  -2.528359   1.101620  5.103850\n",
       "2000-01-24  2.223510  -2.052211   1.514955  5.826975\n",
       "2000-01-25  3.154801  -2.278768   1.987855  7.210415\n",
       "2000-01-26  3.798766  -0.590863   2.884569  6.989569\n",
       "2000-01-27  5.403730  -1.055455   3.953267  4.667425\n",
       "2000-01-28  5.520092  -0.697968   4.965108  4.589336\n",
       "2000-01-29  4.470176  -1.472087   4.949369  3.996182\n",
       "2000-01-30  4.353373  -1.274624   2.945745  4.887362\n",
       "...              ...        ...        ...       ...\n",
       "2002-08-28 -5.365945  42.761536  33.276546  5.270529\n",
       "2002-08-29 -3.459527  42.664778  34.086672  6.659958\n",
       "2002-08-30 -2.942672  41.299415  33.303757  7.134467\n",
       "2002-08-31 -3.836956  41.963479  33.658257  5.910450\n",
       "2002-09-01 -6.517366  41.835451  33.716510  4.083649\n",
       "2002-09-02 -6.468161  41.614994  34.115523  4.300917\n",
       "2002-09-03 -6.570071  41.377074  35.009901  4.820102\n",
       "2002-09-04 -7.483415  40.015796  33.667852  3.758972\n",
       "2002-09-05 -6.969313  37.666969  33.446772  2.366022\n",
       "2002-09-06 -6.370579  37.320359  32.974210  2.860812\n",
       "2002-09-07 -6.881176  37.593523  33.526547  2.205512\n",
       "2002-09-08 -6.242074  37.851813  34.231806 -0.473591\n",
       "2002-09-09 -6.418462  38.112328  35.857256 -1.629687\n",
       "2002-09-10 -6.620494  40.196382  35.745161 -1.584060\n",
       "2002-09-11 -4.904972  41.006204  35.204255 -1.099547\n",
       "2002-09-12 -3.814452  41.787341  34.191868 -1.849576\n",
       "2002-09-13 -3.785296  42.413802  34.605701 -0.337235\n",
       "2002-09-14 -3.702458  42.888295  34.448158  0.206210\n",
       "2002-09-15 -3.645539  41.797349  35.237527 -0.507155\n",
       "2002-09-16 -3.692882  43.302065  34.578612 -0.225172\n",
       "2002-09-17 -3.923034  42.991732  35.234248  1.399644\n",
       "2002-09-18 -4.372863  41.897189  33.544885 -0.172683\n",
       "2002-09-19 -2.194230  43.604461  33.404595 -2.545111\n",
       "2002-09-20 -1.730578  42.883406  33.285445 -2.446497\n",
       "2002-09-21 -1.367989  40.960612  36.239730 -4.342831\n",
       "2002-09-22  0.213933  40.703841  36.601524 -4.216319\n",
       "2002-09-23 -0.696056  42.415371  36.980023 -5.243140\n",
       "2002-09-24 -1.284519  41.850320  37.053234 -4.344624\n",
       "2002-09-25 -1.569626  41.597398  38.980195 -3.686153\n",
       "2002-09-26 -2.749122  42.059481  40.137692 -2.469109\n",
       "\n",
       "[1000 rows x 4 columns]"
      ]
     },
     "execution_count": 55,
     "metadata": {},
     "output_type": "execute_result"
    }
   ],
   "source": [
    "df"
   ]
  }
 ],
 "metadata": {
  "kernelspec": {
   "display_name": "Python 3",
   "language": "python",
   "name": "python3"
  },
  "language_info": {
   "codemirror_mode": {
    "name": "ipython",
    "version": 3
   },
   "file_extension": ".py",
   "mimetype": "text/x-python",
   "name": "python",
   "nbconvert_exporter": "python",
   "pygments_lexer": "ipython3",
   "version": "3.4.3"
  }
 },
 "nbformat": 4,
 "nbformat_minor": 0
}
